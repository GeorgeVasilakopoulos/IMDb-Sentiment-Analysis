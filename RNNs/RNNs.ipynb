{
  "cells": [
    {
      "cell_type": "markdown",
      "metadata": {
        "id": "-q918gyrTOfK"
      },
      "source": [
        "#IMDB Sentiment Analysis - Logistic Regression Model\n",
        "Georgios - Alexandros Vasilakopoulos"
      ]
    },
    {
      "cell_type": "markdown",
      "metadata": {
        "id": "UGMQ9D1tUNM8"
      },
      "source": [
        "##Loading the data:"
      ]
    },
    {
      "cell_type": "code",
      "execution_count": null,
      "metadata": {
        "id": "gRTyaRZf8G6G"
      },
      "outputs": [],
      "source": [
        "import numpy as np\n",
        "import torchtext as text\n",
        "import torch\n",
        "import pandas as pd\n",
        "import re\n",
        "from sklearn.model_selection import train_test_split\n",
        "from gensim.scripts.glove2word2vec import glove2word2vec\n",
        "from gensim.models import KeyedVectors"
      ]
    },
    {
      "cell_type": "code",
      "execution_count": null,
      "metadata": {
        "id": "Dqc1_cV9BMEU"
      },
      "outputs": [],
      "source": [
        "data_path = 'drive/MyDrive/ML/AI2/imdb-reviews.csv'\n",
        "test_path = None #Insert the path here for testing and load the model in the RNN section\n",
        "\n",
        "\n",
        "if test_path:\n",
        "    test_dataset = pd.read_csv(test_path, sep = '\\t')\n",
        "    X_test = test_dataset['review']\n",
        "    Y_test = test_dataset[['rating']]\n",
        "    Y_test.loc[Y_test['rating'] < 7.0, 'rating']=0\n",
        "    Y_test.loc[Y_test['rating'] >= 7.0, 'rating']=1\n",
        "else:\n",
        "    data = pd.read_csv(data_path, sep = '\\t')\n",
        "    X = data['review']\n",
        "    Y = data[['rating']]\n",
        "\n",
        "    Y.loc[Y['rating'] < 7.0, 'rating']=0\n",
        "    Y.loc[Y['rating'] >= 7.0, 'rating']=1\n",
        "\n",
        "    X,X_test,Y,Y_test = train_test_split(X,Y,test_size=0.2, shuffle = True) #Partition of the dataset\n",
        "    X,X_validation,Y,Y_validation = train_test_split(X,Y,test_size=0.2, shuffle = True)"
      ]
    },
    {
      "cell_type": "markdown",
      "metadata": {
        "id": "WuqSa19xKc5j"
      },
      "source": [
        "##Data Preprocessing"
      ]
    },
    {
      "cell_type": "markdown",
      "metadata": {
        "id": "inIXcoJvZyB6"
      },
      "source": [
        "###Defining a custom Dataset"
      ]
    },
    {
      "cell_type": "code",
      "execution_count": null,
      "metadata": {
        "colab": {
          "base_uri": "https://localhost:8080/"
        },
        "id": "4uXsceOlYTph",
        "outputId": "1ccfa176-b516-4465-afd7-660067b14293"
      },
      "outputs": [
        {
          "output_type": "stream",
          "name": "stderr",
          "text": [
            "[nltk_data] Downloading package stopwords to /root/nltk_data...\n",
            "[nltk_data]   Unzipping corpora/stopwords.zip.\n",
            "[nltk_data] Downloading package punkt to /root/nltk_data...\n",
            "[nltk_data]   Unzipping tokenizers/punkt.zip.\n",
            "[nltk_data] Downloading package wordnet to /root/nltk_data...\n",
            "[nltk_data] Downloading package omw-1.4 to /root/nltk_data...\n"
          ]
        }
      ],
      "source": [
        "from torch.utils.data import Dataset\n",
        "import nltk\n",
        "from nltk.corpus import stopwords\n",
        "from nltk.tokenize import word_tokenize\n",
        "from nltk.stem import WordNetLemmatizer, PorterStemmer\n",
        "nltk.download('stopwords')\n",
        "nltk.download('punkt')\n",
        "nltk.download('wordnet')\n",
        "nltk.download('omw-1.4')\n",
        "\n",
        "class myDataset(Dataset):\n",
        "    def __init__(self,X,Y,vec):                 #vec corresponds to a word2vec vocabulary. In our case, GloVe embeddings\n",
        "        self.vec = vec\n",
        "        stopword_set = set(stopwords.words())\n",
        "\n",
        "        X_transformed = []\n",
        "        for instance in X:\n",
        "            instance = re.sub(r'[^a-z ]+', '', instance.lower())        #Transform upper case letters to lower case and keep only letters.\n",
        "            word_list = word_tokenize(instance)\n",
        "            word_list = [word for word in word_list if not word in stopword_set]\n",
        "            vector_list = []\n",
        "            for word in word_list:\n",
        "                if word in self.vec.stoi:                            #If word is in vocabulary, add the index of the word for later reference\n",
        "                    vector_list.append(self.vec.stoi[word])\n",
        "            if len(vector_list)>0:\n",
        "                X_transformed.append(torch.tensor(vector_list))\n",
        "\n",
        "\n",
        "        self.X = X_transformed              #Store data within the myDataset object\n",
        "        self.Y = np.ravel(Y)\n",
        "\n",
        "\n",
        "    def __len__(self):\n",
        "        return len(self.Y)\n",
        "\n",
        "    def getLabels(self):\n",
        "        return self.Y\n",
        "\n",
        "    def __getitem__(self,idx):\n",
        "        return self.X[idx], self.Y[idx]\n"
      ]
    },
    {
      "cell_type": "markdown",
      "metadata": {
        "id": "tYGg0zBiasD4"
      },
      "source": [
        "###Initialize Dataloaders"
      ]
    },
    {
      "cell_type": "code",
      "execution_count": null,
      "metadata": {
        "colab": {
          "base_uri": "https://localhost:8080/"
        },
        "id": "Mj2cm6p7tiVF",
        "outputId": "0058016f-7b88-45b5-bb98-769b0c2e6c72"
      },
      "outputs": [
        {
          "output_type": "stream",
          "name": "stderr",
          "text": [
            ".vector_cache/glove.6B.zip: 862MB [05:11, 2.77MB/s]                           \n",
            "100%|█████████▉| 399999/400000 [00:35<00:00, 11314.01it/s]\n"
          ]
        }
      ],
      "source": [
        "vec = text.vocab.GloVe(name='6B', dim=300)"
      ]
    },
    {
      "cell_type": "code",
      "execution_count": null,
      "metadata": {
        "id": "uhRsdCVy3GVG"
      },
      "outputs": [],
      "source": [
        "if test_path is None:\n",
        "    train_dataset = myDataset(X,Y,vec)\n",
        "    validation_dataset = myDataset(X_validation,Y_validation,vec)\n",
        "test_dataset = myDataset(X_test,Y_test,vec)"
      ]
    },
    {
      "cell_type": "code",
      "execution_count": null,
      "metadata": {
        "id": "d8IQsA-GGDXL"
      },
      "outputs": [],
      "source": [
        "def collate_fn(batch):      #Given a batch, pad the data and return the padded data and the labels\n",
        "\n",
        "    (X, Y) = zip(*batch)\n",
        "\n",
        "    X_padded = torch.nn.utils.rnn.pad_sequence(X,batch_first=True)\n",
        "    return X_padded,torch.tensor(list(Y),dtype=torch.float)\n",
        "\n",
        "if test_path is None:\n",
        "    train_dataloader = torch.utils.data.DataLoader(train_dataset, batch_size=64, shuffle=True,collate_fn = collate_fn)\n",
        "    validation_dataloader = torch.utils.data.DataLoader(validation_dataset, batch_size=64, shuffle=False,collate_fn = collate_fn)\n",
        "test_dataloader = torch.utils.data.DataLoader(test_dataset, batch_size=64, shuffle=False,collate_fn = collate_fn)\n"
      ]
    },
    {
      "cell_type": "markdown",
      "metadata": {
        "id": "kzrTo6wReXbA"
      },
      "source": [
        "##Recurrent Neural Network"
      ]
    },
    {
      "cell_type": "code",
      "execution_count": null,
      "metadata": {
        "colab": {
          "base_uri": "https://localhost:8080/"
        },
        "id": "90qcyzJJIflT",
        "outputId": "d13cb9af-56f2-49a1-903e-6ac7c1379809"
      },
      "outputs": [
        {
          "output_type": "stream",
          "name": "stdout",
          "text": [
            "Looking in indexes: https://pypi.org/simple, https://us-python.pkg.dev/colab-wheels/public/simple/\n",
            "Collecting torchmetrics\n",
            "  Downloading torchmetrics-0.11.0-py3-none-any.whl (512 kB)\n",
            "\u001b[2K     \u001b[90m━━━━━━━━━━━━━━━━━━━━━━━━━━━━━━━━━━━━━━\u001b[0m \u001b[32m512.4/512.4 KB\u001b[0m \u001b[31m28.8 MB/s\u001b[0m eta \u001b[36m0:00:00\u001b[0m\n",
            "\u001b[?25hRequirement already satisfied: torch>=1.8.1 in /usr/local/lib/python3.8/dist-packages (from torchmetrics) (1.13.1+cu116)\n",
            "Requirement already satisfied: numpy>=1.17.2 in /usr/local/lib/python3.8/dist-packages (from torchmetrics) (1.21.6)\n",
            "Requirement already satisfied: typing-extensions in /usr/local/lib/python3.8/dist-packages (from torchmetrics) (4.4.0)\n",
            "Requirement already satisfied: packaging in /usr/local/lib/python3.8/dist-packages (from torchmetrics) (21.3)\n",
            "Requirement already satisfied: pyparsing!=3.0.5,>=2.0.2 in /usr/local/lib/python3.8/dist-packages (from packaging->torchmetrics) (3.0.9)\n",
            "Installing collected packages: torchmetrics\n",
            "Successfully installed torchmetrics-0.11.0\n"
          ]
        }
      ],
      "source": [
        "!pip install torchmetrics"
      ]
    },
    {
      "cell_type": "code",
      "execution_count": null,
      "metadata": {
        "id": "DFVYuAqJv0Ra"
      },
      "outputs": [],
      "source": [
        "import torch.nn as nn\n",
        "from torchmetrics.classification import BinaryF1Score\n",
        "from torchmetrics.classification import BinaryPrecision\n",
        "from torchmetrics.classification import BinaryRecall\n",
        "import matplotlib.pyplot as plt"
      ]
    },
    {
      "cell_type": "markdown",
      "metadata": {
        "id": "-Xbv0t_k4ck8"
      },
      "source": [
        "###Defining the RNN architecture"
      ]
    },
    {
      "cell_type": "code",
      "execution_count": null,
      "metadata": {
        "id": "9TYtzH798QoN"
      },
      "outputs": [],
      "source": [
        "class RNN(nn.Module):\n",
        "    \"\"\"\n",
        "      Wrapper module for RNN, LSTM, GRU cells using pytorch api. The output is fed to a FFN for classification.\n",
        "    \"\"\"\n",
        "    # def __init__(self, cell_type, input_size, hidden_size,num_layers, dropout, output_size,vec):\n",
        "    def __init__(self, parameters,vec,output_size=1):\n",
        "        super(RNN, self).__init__()\n",
        "\n",
        "        cells = {\n",
        "        \"LSTM\"    : nn.LSTM,\n",
        "        \"GRU\"     : nn.GRU\n",
        "    }\n",
        "        self.vec = vec\n",
        "        self.embedding = nn.Embedding.from_pretrained(vec.vectors)\n",
        "        self.cell_type = parameters['cell_type']\n",
        "        self.skip_connections = parameters['skip_connections']\n",
        "\n",
        "\n",
        "        self.rnn_layers = nn.ModuleList()\n",
        "        self.rnn_layers = self.rnn_layers.append(cells[parameters['cell_type']](\n",
        "            input_size = parameters['input_size'],\n",
        "            hidden_size = parameters['hidden_size'],\n",
        "            dropout = parameters['dropout'],\n",
        "            bidirectional = True,\n",
        "            batch_first =  True,\n",
        "        ))\n",
        "        i = 1\n",
        "        while i < parameters['num_layers']:\n",
        "            self.rnn_layers.append(\n",
        "                cells[parameters['cell_type']](\n",
        "                    input_size = 2*parameters['hidden_size'],\n",
        "                    hidden_size =parameters['hidden_size'],\n",
        "                    dropout = parameters['dropout'],\n",
        "                    bidirectional = True,\n",
        "                    batch_first =  True,\n",
        "                )\n",
        "            )\n",
        "            i+=1\n",
        "\n",
        "        self.use_attention = parameters['attention']\n",
        "        if self.use_attention == True:\n",
        "            self.out = nn.Linear(4*parameters['hidden_size'], output_size)\n",
        "        else:\n",
        "            self.out = nn.Linear(2*parameters['hidden_size'], output_size)\n",
        "        self.sigmoid = nn.Sigmoid()\n",
        "\n",
        "    def forward(self, x):\n",
        "\n",
        "        out = self.embedding(x)\n",
        "        if self.skip_connections == True and len(self.rnn_layers)>1:\n",
        "            out1,_ = self.rnn_layers[0](out)\n",
        "            out2,_ = self.rnn_layers[1](out1)\n",
        "            for i in range(2,len(self.rnn_layers)):\n",
        "                temp,_ = self.rnn_layers[i](out1 + out2)\n",
        "                out1 = out2\n",
        "                out2 = temp\n",
        "            out = out2\n",
        "\n",
        "        else:\n",
        "            for i in range(len(self.rnn_layers)):\n",
        "                out,_ = self.rnn_layers[i](out)\n",
        "\n",
        "\n",
        "\n",
        "        if self.use_attention == True:\n",
        "            softmax = nn.Softmax()\n",
        "            weight_vectors = []\n",
        "            for i in range(out.shape[0]):                                               #For each batch\n",
        "                weight_vector = softmax(torch.matmul(out[i,0:-2,:],out[i,-1,:]))        #Compute weight vector\n",
        "                vector = torch.matmul(out[i,0:-2,:].T,weight_vector)                    #Compute weighted sum of vectors\n",
        "                weight_vectors.append(torch.cat((vector,out[i,-1,:]),0))\n",
        "            weight_vectors = torch.stack(weight_vectors)\n",
        "            return self.sigmoid(self.out(weight_vectors))\n",
        "        else:\n",
        "            return self.sigmoid(self.out(out[:,-1,:]))"
      ]
    },
    {
      "cell_type": "markdown",
      "metadata": {
        "id": "JUB-2F2U4gop"
      },
      "source": [
        "###Defining the Train, Test and Make Prediction Processes"
      ]
    },
    {
      "cell_type": "code",
      "execution_count": null,
      "metadata": {
        "id": "Jj_PCID1ICxr"
      },
      "outputs": [],
      "source": [
        "def Test_Network(dataloader, model):\n",
        "    device = torch.device(\"cuda\" if torch.cuda.is_available() else \"cpu\")\n",
        "    f1 = BinaryF1Score().to(device)\n",
        "    pr = BinaryPrecision().to(device)\n",
        "    rec = BinaryRecall().to(device)\n",
        "\n",
        "    with torch.no_grad():\n",
        "        model.eval()\n",
        "        batch_counter = 0\n",
        "        f1_measure = 0\n",
        "        precision = 0\n",
        "        recall = 0\n",
        "        for batch_id, (x,y) in enumerate(dataloader):\n",
        "            x = x.to(device)\n",
        "            y = y.to(device)\n",
        "\n",
        "            prediction = model(x)\n",
        "            prediction = prediction[:,0]\n",
        "            f1_measure += f1(prediction,y)\n",
        "            precision += pr(prediction,y)\n",
        "            recall += rec(prediction,y)\n",
        "            batch_counter +=1\n",
        "\n",
        "        f1_measure/= batch_counter\n",
        "        precision /= batch_counter\n",
        "        recall /= batch_counter\n",
        "\n",
        "    return precision, recall, f1_measure"
      ]
    },
    {
      "cell_type": "code",
      "execution_count": null,
      "metadata": {
        "id": "YZ7KCJyCKz2s"
      },
      "outputs": [],
      "source": [
        "def Train_Network(train_dataloader,validation_dataloader,n_epochs,lr,model,info=False):\n",
        "    cost_function = nn.BCELoss()\n",
        "    optimizer = torch.optim.Adam(model.parameters(), lr = lr)\n",
        "\n",
        "    use_cuda = torch.cuda.is_available()\n",
        "    device = torch.device(\"cuda\" if use_cuda else \"cpu\")\n",
        "\n",
        "    if use_cuda:\n",
        "        print(\"Using cuda\")\n",
        "        model = model.cuda()\n",
        "        cost_function = cost_function.cuda()\n",
        "    else:\n",
        "        print(\"Using CPU\")\n",
        "\n",
        "    best_model = None\n",
        "    highest_f1_score = 0\n",
        "\n",
        "    epoch_sizes = []\n",
        "    val_scores = []\n",
        "    train_scores = []\n",
        "\n",
        "    for i in range(n_epochs):\n",
        "        model.train()\n",
        "        loss_list = []\n",
        "        avg_losses = []\n",
        "        for batch_id, (x,y) in enumerate(train_dataloader):\n",
        "            x = x.to(device)\n",
        "            y = y.to(device)\n",
        "\n",
        "            optimizer.zero_grad()\n",
        "            prediction = model(x)\n",
        "            loss = cost_function(prediction[:,0],y)\n",
        "            loss_list.append(loss.item())\n",
        "            loss.backward()\n",
        "            optimizer.step()\n",
        "\n",
        "        _,_,f1_measure_val = Test_Network(validation_dataloader,model)\n",
        "        if info == True:\n",
        "            _, _, f1_measure_train = Test_Network(train_dataloader,model)\n",
        "            epoch_sizes.append([i])\n",
        "            val_scores.append(f1_measure_val.item())\n",
        "            train_scores.append(f1_measure_train.item())\n",
        "            avg_losses.append(np.mean(loss_list))\n",
        "        if highest_f1_score < f1_measure_val:\n",
        "            highest_f1_score = f1_measure_val\n",
        "            best_model = model\n",
        "    if info == False:\n",
        "        return best_model, highest_f1_score\n",
        "    return best_model, avg_losses, epoch_sizes, val_scores, train_scores\n",
        "\n"
      ]
    },
    {
      "cell_type": "code",
      "execution_count": null,
      "metadata": {
        "id": "SMr0QRvUWghy"
      },
      "outputs": [],
      "source": [
        "def make_prediction(test_dataloader,model):\n",
        "    def toBinary(x):\n",
        "        if x >=0.5 :\n",
        "            return 1\n",
        "        else:\n",
        "            return 0\n",
        "\n",
        "    device = torch.device(\"cuda\" if torch.cuda.is_available() else \"cpu\")\n",
        "    predictions = []\n",
        "    with torch.no_grad():\n",
        "        model.eval()\n",
        "        device = torch.device(\"cuda\" if torch.cuda.is_available() else \"cpu\")\n",
        "        for batch_id, (x,_) in enumerate(test_dataloader):\n",
        "            x = x.to(device)\n",
        "            prediction = model(x)\n",
        "            prediction = prediction[:,0]\n",
        "            predictions.append(np.array(prediction.cpu()))\n",
        "        predictions = np.concatenate(predictions)\n",
        "        quantized = []\n",
        "        for val in predictions:\n",
        "            if val>=0.5:\n",
        "                quantized.append(1)\n",
        "            else:\n",
        "                quantized.append(0)\n",
        "\n",
        "    return np.array(quantized)\n"
      ]
    },
    {
      "cell_type": "markdown",
      "source": [
        "###Defining the final model:"
      ],
      "metadata": {
        "id": "QKVsPxQs6KyX"
      }
    },
    {
      "cell_type": "code",
      "execution_count": null,
      "metadata": {
        "colab": {
          "base_uri": "https://localhost:8080/"
        },
        "id": "2GNLw3r6vfxB",
        "outputId": "38b26bbc-fbc1-4b0e-c0d2-e77cf2188d19"
      },
      "outputs": [
        {
          "output_type": "stream",
          "name": "stdout",
          "text": [
            "RNN(\n",
            "  (embedding): Embedding(400000, 300)\n",
            "  (rnn_layers): ModuleList(\n",
            "    (0): LSTM(300, 57, batch_first=True, dropout=0.02051594089032721, bidirectional=True)\n",
            "    (1): LSTM(114, 57, batch_first=True, dropout=0.02051594089032721, bidirectional=True)\n",
            "    (2): LSTM(114, 57, batch_first=True, dropout=0.02051594089032721, bidirectional=True)\n",
            "  )\n",
            "  (out): Linear(in_features=228, out_features=1, bias=True)\n",
            "  (sigmoid): Sigmoid()\n",
            ")\n"
          ]
        },
        {
          "output_type": "stream",
          "name": "stderr",
          "text": [
            "/usr/local/lib/python3.8/dist-packages/torch/nn/modules/rnn.py:67: UserWarning: dropout option adds dropout after all but last recurrent layer, so non-zero dropout expects num_layers greater than 1, but got dropout=0.02051594089032721 and num_layers=1\n",
            "  warnings.warn(\"dropout option adds dropout after all but last \"\n"
          ]
        }
      ],
      "source": [
        "parameters = {\n",
        "    'lr': 0.0008597490589482921,\n",
        "    'cell_type': 'LSTM',\n",
        "    'input_size': 300,\n",
        "    'hidden_size': 57,\n",
        "    'num_layers': 3,\n",
        "    'dropout': 0.02051594089032721,\n",
        "    'skip_connections' : False,\n",
        "    'attention' : True\n",
        "}\n",
        "\n",
        "net = RNN(parameters,vec)\n",
        "print(net)"
      ]
    },
    {
      "cell_type": "markdown",
      "source": [
        "###TRAIN THE MODEL"
      ],
      "metadata": {
        "id": "J2QMzd-LxkQR"
      }
    },
    {
      "cell_type": "code",
      "execution_count": null,
      "metadata": {
        "colab": {
          "base_uri": "https://localhost:8080/"
        },
        "id": "K4cL_dxMvmiN",
        "outputId": "ab24d9f9-b37f-45d7-9c62-54e2209ba463"
      },
      "outputs": [
        {
          "output_type": "stream",
          "name": "stdout",
          "text": [
            "Using cuda\n"
          ]
        },
        {
          "output_type": "stream",
          "name": "stderr",
          "text": [
            "<ipython-input-8-5f83bf2eb6bd>:69: UserWarning: Implicit dimension choice for softmax has been deprecated. Change the call to include dim=X as an argument.\n",
            "  weight_vector = softmax(torch.matmul(out[i,0:-2,:],out[i,-1,:]))        #Compute weight vector\n"
          ]
        }
      ],
      "source": [
        "EPOCH = 7\n",
        "trained_model, avg_losses, epoch_sizes, val_scores, train_scores = Train_Network(train_dataloader,validation_dataloader,EPOCH, parameters['lr'], net,info = True)"
      ]
    },
    {
      "cell_type": "code",
      "source": [
        "torch.save(trained_model.state_dict(),'drive/MyDrive/ML/AI2/mymodel.pt')"
      ],
      "metadata": {
        "id": "57pjZ89d4NLH"
      },
      "execution_count": null,
      "outputs": []
    },
    {
      "cell_type": "markdown",
      "source": [
        "###OR LOAD THE MODEL"
      ],
      "metadata": {
        "id": "cGIg3k273OUQ"
      }
    },
    {
      "cell_type": "code",
      "source": [
        "MODEL_PATH = 'drive/MyDrive/ML/AI2/mymodel.pt'\n",
        "\n",
        "trained_model = net\n",
        "trained_model.load_state_dict(torch.load(MODEL_PATH))"
      ],
      "metadata": {
        "colab": {
          "base_uri": "https://localhost:8080/"
        },
        "id": "ZJkK6s7e3VWH",
        "outputId": "1241f4c5-98f3-4d06-cef3-32a93cf5e817"
      },
      "execution_count": null,
      "outputs": [
        {
          "output_type": "execute_result",
          "data": {
            "text/plain": [
              "<All keys matched successfully>"
            ]
          },
          "metadata": {},
          "execution_count": 29
        }
      ]
    },
    {
      "cell_type": "markdown",
      "metadata": {
        "id": "YZPHt0bw5YJi"
      },
      "source": [
        "###Performance on the Test set: Metrics, Learning Curve, ROC Curve"
      ]
    },
    {
      "cell_type": "code",
      "execution_count": null,
      "metadata": {
        "colab": {
          "base_uri": "https://localhost:8080/"
        },
        "id": "gmB33ybzWF1x",
        "outputId": "fcc531e2-f9dc-4e34-9f2b-3beff3329dfb"
      },
      "outputs": [
        {
          "output_type": "stream",
          "name": "stderr",
          "text": [
            "<ipython-input-8-5f83bf2eb6bd>:69: UserWarning: Implicit dimension choice for softmax has been deprecated. Change the call to include dim=X as an argument.\n",
            "  weight_vector = softmax(torch.matmul(out[i,0:-2,:],out[i,-1,:]))        #Compute weight vector\n"
          ]
        },
        {
          "output_type": "stream",
          "name": "stdout",
          "text": [
            "Precision:  0.8549545407295227\n",
            "Recall:  0.8871859312057495\n",
            "f1 measure:  0.8690437078475952\n"
          ]
        }
      ],
      "source": [
        "precision, recall, f1 = Test_Network(test_dataloader,trained_model)\n",
        "print(\"Precision: \",precision.item())\n",
        "print(\"Recall: \",recall.item())\n",
        "print(\"f1 measure: \",f1.item())\n",
        "\n",
        "y_predicted = make_prediction(test_dataloader,trained_model)\n",
        "y_actual = np.asarray(test_dataset.getLabels())"
      ]
    },
    {
      "cell_type": "markdown",
      "source": [
        "The code below will work if the model is trained within the current runtime."
      ],
      "metadata": {
        "id": "S-xrPYjMCpgS"
      }
    },
    {
      "cell_type": "code",
      "execution_count": null,
      "metadata": {
        "colab": {
          "base_uri": "https://localhost:8080/",
          "height": 639
        },
        "id": "1R4RwyZrYP5A",
        "outputId": "b3e2809f-17e4-4f3c-989a-5eca2e4564e1"
      },
      "outputs": [
        {
          "output_type": "execute_result",
          "data": {
            "text/plain": [
              "<matplotlib.legend.Legend at 0x7fbec9ef0f10>"
            ]
          },
          "metadata": {},
          "execution_count": 31
        },
        {
          "output_type": "display_data",
          "data": {
            "text/plain": [
              "<Figure size 1440x720 with 2 Axes>"
            ],
            "image/png": "[encoded data removed]"
          },
          "metadata": {
            "needs_background": "light"
          }
        }
      ],
      "source": [
        "import matplotlib.pyplot as plt\n",
        "from sklearn.metrics import roc_curve, auc\n",
        "\n",
        "\n",
        "\n",
        "fp,tp,_ = roc_curve(y_actual, y_predicted)\n",
        "roc_auc = auc(fp,tp)\n",
        "\n",
        "_, axes = plt.subplots(1,2,figsize=(20,10))\n",
        "axes[0].set_title(\"Learning Curve\")\n",
        "axes[0].set_xlabel(\"Epochs\")\n",
        "axes[0].set_ylabel(\"F1 Score\")\n",
        "axes[0].grid()\n",
        "\n",
        "axes[0].plot(epoch_sizes, train_scores, color=\"r\", label=\"Training Score\")\n",
        "axes[0].plot(epoch_sizes, val_scores, color=\"g\", label=\"Validation Score\")\n",
        "axes[0].legend(loc=\"best\")\n",
        "\n",
        "axes[1].set_title(\"ROC Curve\")\n",
        "axes[1].set_xlabel(\"False Positive Rate\")\n",
        "axes[1].set_ylabel(\"True Positive Rate\")\n",
        "axes[1].grid()\n",
        "axes[1].plot(fp, tp, label='ROC curve (area = %0.2f)' % roc_auc)\n",
        "axes[1].legend(loc = \"best\")\n"
      ]
    },
    {
      "cell_type": "markdown",
      "metadata": {
        "id": "s1dIasRU2QRp"
      },
      "source": [
        "##Hyperparameter Selection"
      ]
    },
    {
      "cell_type": "markdown",
      "metadata": {
        "id": "LnLEKUEp24GF"
      },
      "source": [
        "###Optuna Installation"
      ]
    },
    {
      "cell_type": "code",
      "execution_count": null,
      "metadata": {
        "colab": {
          "base_uri": "https://localhost:8080/"
        },
        "id": "93zIsXKC2y40",
        "outputId": "b92a588f-95c7-4769-8b4b-e4612d332567"
      },
      "outputs": [
        {
          "output_type": "stream",
          "name": "stdout",
          "text": [
            "Looking in indexes: https://pypi.org/simple, https://us-python.pkg.dev/colab-wheels/public/simple/\n",
            "Collecting optuna\n",
            "  Downloading optuna-3.0.5-py3-none-any.whl (348 kB)\n",
            "\u001b[2K     \u001b[90m━━━━━━━━━━━━━━━━━━━━━━━━━━━━━━━━━━━━━━\u001b[0m \u001b[32m348.5/348.5 KB\u001b[0m \u001b[31m27.2 MB/s\u001b[0m eta \u001b[36m0:00:00\u001b[0m\n",
            "\u001b[?25hRequirement already satisfied: sqlalchemy>=1.3.0 in /usr/local/lib/python3.8/dist-packages (from optuna) (1.4.46)\n",
            "Requirement already satisfied: packaging>=20.0 in /usr/local/lib/python3.8/dist-packages (from optuna) (21.3)\n",
            "Collecting cliff\n",
            "  Downloading cliff-4.1.0-py3-none-any.whl (81 kB)\n",
            "\u001b[2K     \u001b[90m━━━━━━━━━━━━━━━━━━━━━━━━━━━━━━━━━━━━━━━━\u001b[0m \u001b[32m81.0/81.0 KB\u001b[0m \u001b[31m11.6 MB/s\u001b[0m eta \u001b[36m0:00:00\u001b[0m\n",
            "\u001b[?25hRequirement already satisfied: tqdm in /usr/local/lib/python3.8/dist-packages (from optuna) (4.64.1)\n",
            "Collecting alembic>=1.5.0\n",
            "  Downloading alembic-1.9.2-py3-none-any.whl (210 kB)\n",
            "\u001b[2K     \u001b[90m━━━━━━━━━━━━━━━━━━━━━━━━━━━━━━━━━━━━━━\u001b[0m \u001b[32m210.6/210.6 KB\u001b[0m \u001b[31m25.0 MB/s\u001b[0m eta \u001b[36m0:00:00\u001b[0m\n",
            "\u001b[?25hRequirement already satisfied: scipy<1.9.0,>=1.7.0 in /usr/local/lib/python3.8/dist-packages (from optuna) (1.7.3)\n",
            "Requirement already satisfied: PyYAML in /usr/local/lib/python3.8/dist-packages (from optuna) (6.0)\n",
            "Collecting importlib-metadata<5.0.0\n",
            "  Downloading importlib_metadata-4.13.0-py3-none-any.whl (23 kB)\n",
            "Requirement already satisfied: numpy in /usr/local/lib/python3.8/dist-packages (from optuna) (1.21.6)\n",
            "Collecting colorlog\n",
            "  Downloading colorlog-6.7.0-py2.py3-none-any.whl (11 kB)\n",
            "Collecting cmaes>=0.8.2\n",
            "  Downloading cmaes-0.9.1-py3-none-any.whl (21 kB)\n",
            "Requirement already satisfied: importlib-resources in /usr/local/lib/python3.8/dist-packages (from alembic>=1.5.0->optuna) (5.10.2)\n",
            "Collecting Mako\n",
            "  Downloading Mako-1.2.4-py3-none-any.whl (78 kB)\n",
            "\u001b[2K     \u001b[90m━━━━━━━━━━━━━━━━━━━━━━━━━━━━━━━━━━━━━━━━\u001b[0m \u001b[32m78.7/78.7 KB\u001b[0m \u001b[31m11.3 MB/s\u001b[0m eta \u001b[36m0:00:00\u001b[0m\n",
            "\u001b[?25hRequirement already satisfied: zipp>=0.5 in /usr/local/lib/python3.8/dist-packages (from importlib-metadata<5.0.0->optuna) (3.11.0)\n",
            "Requirement already satisfied: pyparsing!=3.0.5,>=2.0.2 in /usr/local/lib/python3.8/dist-packages (from packaging>=20.0->optuna) (3.0.9)\n",
            "Requirement already satisfied: greenlet!=0.4.17 in /usr/local/lib/python3.8/dist-packages (from sqlalchemy>=1.3.0->optuna) (2.0.1)\n",
            "Collecting autopage>=0.4.0\n",
            "  Downloading autopage-0.5.1-py3-none-any.whl (29 kB)\n",
            "Collecting cmd2>=1.0.0\n",
            "  Downloading cmd2-2.4.2-py3-none-any.whl (147 kB)\n",
            "\u001b[2K     \u001b[90m━━━━━━━━━━━━━━━━━━━━━━━━━━━━━━━━━━━━━━\u001b[0m \u001b[32m147.1/147.1 KB\u001b[0m \u001b[31m19.4 MB/s\u001b[0m eta \u001b[36m0:00:00\u001b[0m\n",
            "\u001b[?25hRequirement already satisfied: PrettyTable>=0.7.2 in /usr/local/lib/python3.8/dist-packages (from cliff->optuna) (3.6.0)\n",
            "Collecting stevedore>=2.0.1\n",
            "  Downloading stevedore-4.1.1-py3-none-any.whl (50 kB)\n",
            "\u001b[2K     \u001b[90m━━━━━━━━━━━━━━━━━━━━━━━━━━━━━━━━━━━━━━━━\u001b[0m \u001b[32m50.0/50.0 KB\u001b[0m \u001b[31m7.3 MB/s\u001b[0m eta \u001b[36m0:00:00\u001b[0m\n",
            "\u001b[?25hRequirement already satisfied: attrs>=16.3.0 in /usr/local/lib/python3.8/dist-packages (from cmd2>=1.0.0->cliff->optuna) (22.2.0)\n",
            "Collecting pyperclip>=1.6\n",
            "  Downloading pyperclip-1.8.2.tar.gz (20 kB)\n",
            "  Preparing metadata (setup.py) ... \u001b[?25l\u001b[?25hdone\n",
            "Requirement already satisfied: wcwidth>=0.1.7 in /usr/local/lib/python3.8/dist-packages (from cmd2>=1.0.0->cliff->optuna) (0.2.5)\n",
            "Collecting pbr!=2.1.0,>=2.0.0\n",
            "  Downloading pbr-5.11.1-py2.py3-none-any.whl (112 kB)\n",
            "\u001b[2K     \u001b[90m━━━━━━━━━━━━━━━━━━━━━━━━━━━━━━━━━━━━━━\u001b[0m \u001b[32m112.7/112.7 KB\u001b[0m \u001b[31m13.9 MB/s\u001b[0m eta \u001b[36m0:00:00\u001b[0m\n",
            "\u001b[?25hRequirement already satisfied: MarkupSafe>=0.9.2 in /usr/local/lib/python3.8/dist-packages (from Mako->alembic>=1.5.0->optuna) (2.0.1)\n",
            "Building wheels for collected packages: pyperclip\n",
            "  Building wheel for pyperclip (setup.py) ... \u001b[?25l\u001b[?25hdone\n",
            "  Created wheel for pyperclip: filename=pyperclip-1.8.2-py3-none-any.whl size=11136 sha256=4285d9860ce093364efb29a9ebd75cccdfcdfba0ae65a775410b78c7c12f1787\n",
            "  Stored in directory: /root/.cache/pip/wheels/7f/1a/65/84ff8c386bec21fca6d220ea1f5498a0367883a78dd5ba6122\n",
            "Successfully built pyperclip\n",
            "Installing collected packages: pyperclip, pbr, Mako, importlib-metadata, colorlog, cmd2, cmaes, autopage, stevedore, alembic, cliff, optuna\n",
            "  Attempting uninstall: importlib-metadata\n",
            "    Found existing installation: importlib-metadata 6.0.0\n",
            "    Uninstalling importlib-metadata-6.0.0:\n",
            "      Successfully uninstalled importlib-metadata-6.0.0\n",
            "Successfully installed Mako-1.2.4 alembic-1.9.2 autopage-0.5.1 cliff-4.1.0 cmaes-0.9.1 cmd2-2.4.2 colorlog-6.7.0 importlib-metadata-4.13.0 optuna-3.0.5 pbr-5.11.1 pyperclip-1.8.2 stevedore-4.1.1\n"
          ]
        }
      ],
      "source": [
        "!pip install optuna"
      ]
    },
    {
      "cell_type": "code",
      "execution_count": null,
      "metadata": {
        "id": "4JwUXQHk2u5-"
      },
      "outputs": [],
      "source": [
        "import optuna"
      ]
    },
    {
      "cell_type": "markdown",
      "metadata": {
        "id": "Piluzv6ThN3X"
      },
      "source": [
        "###Searching for the best model: Without Attention"
      ]
    },
    {
      "cell_type": "code",
      "execution_count": null,
      "metadata": {
        "id": "tMKc2N4R4aCA"
      },
      "outputs": [],
      "source": [
        "def objective(trial):\n",
        "\n",
        "    parameters = {\n",
        "        'lr': trial.suggest_loguniform('learning_rate',1e-4,1e-2),\n",
        "        'cell_type': trial.suggest_categorical(\"cell_type\",[\"LSTM\",\"GRU\"]),\n",
        "        'input_size': 300,\n",
        "        'hidden_size': trial.suggest_int(\"hidden_size\",16,64),\n",
        "        'num_layers': trial.suggest_int(\"num_layers\",1,10),\n",
        "        'dropout': trial.suggest_loguniform(\"dropout\",0.01,0.08),\n",
        "        'skip_connections': True,\n",
        "        'attention': False\n",
        "    }\n",
        "    EPOCH = 15\n",
        "\n",
        "\n",
        "    model= RNN(parameters,vec)\n",
        "\n",
        "    _,f1_measure = Train_Network(train_dataloader,validation_dataloader,EPOCH,parameters['lr'],model)\n",
        "\n",
        "    return f1_measure"
      ]
    },
    {
      "cell_type": "markdown",
      "source": [
        "####Optuna Results:"
      ],
      "metadata": {
        "id": "0UuIFCzyyzEs"
      }
    },
    {
      "cell_type": "code",
      "execution_count": null,
      "metadata": {
        "colab": {
          "base_uri": "https://localhost:8080/"
        },
        "id": "WHfSMckrkiH2",
        "outputId": "b0a90c1c-bb80-426e-e8da-72d68ba42a21"
      },
      "outputs": [
        {
          "output_type": "stream",
          "name": "stderr",
          "text": [
            "\u001b[32m[I 2023-01-16 13:28:29,249]\u001b[0m A new study created in memory with name: no-name-c56e2989-4902-4997-af61-04932791c58b\u001b[0m\n",
            "<ipython-input-57-ee9d883959aa>:4: FutureWarning: suggest_loguniform has been deprecated in v3.0.0. This feature will be removed in v6.0.0. See https://github.com/optuna/optuna/releases/tag/v3.0.0. Use :func:`~optuna.trial.Trial.suggest_float` instead.\n",
            "  'lr': trial.suggest_loguniform('learning_rate',1e-4,1e-2),\n",
            "<ipython-input-57-ee9d883959aa>:9: FutureWarning: suggest_loguniform has been deprecated in v3.0.0. This feature will be removed in v6.0.0. See https://github.com/optuna/optuna/releases/tag/v3.0.0. Use :func:`~optuna.trial.Trial.suggest_float` instead.\n",
            "  'dropout': trial.suggest_loguniform(\"dropout\",0.01,0.08),\n",
            "/usr/local/lib/python3.8/dist-packages/torch/nn/modules/rnn.py:67: UserWarning: dropout option adds dropout after all but last recurrent layer, so non-zero dropout expects num_layers greater than 1, but got dropout=0.03346328584992909 and num_layers=1\n",
            "  warnings.warn(\"dropout option adds dropout after all but last \"\n"
          ]
        },
        {
          "output_type": "stream",
          "name": "stdout",
          "text": [
            "Using cuda\n"
          ]
        },
        {
          "output_type": "stream",
          "name": "stderr",
          "text": [
            "\u001b[32m[I 2023-01-16 13:32:14,635]\u001b[0m Trial 0 finished with value: 0.8728100061416626 and parameters: {'learning_rate': 0.00043681250784569385, 'cell_type': 'GRU', 'hidden_size': 41, 'num_layers': 6, 'dropout': 0.03346328584992909}. Best is trial 0 with value: 0.8728100061416626.\u001b[0m\n",
            "/usr/local/lib/python3.8/dist-packages/torch/nn/modules/rnn.py:67: UserWarning: dropout option adds dropout after all but last recurrent layer, so non-zero dropout expects num_layers greater than 1, but got dropout=0.01141540953855738 and num_layers=1\n",
            "  warnings.warn(\"dropout option adds dropout after all but last \"\n"
          ]
        },
        {
          "output_type": "stream",
          "name": "stdout",
          "text": [
            "Using cuda\n"
          ]
        },
        {
          "output_type": "stream",
          "name": "stderr",
          "text": [
            "\u001b[32m[I 2023-01-16 13:38:45,233]\u001b[0m Trial 1 finished with value: 0.801502525806427 and parameters: {'learning_rate': 0.00010874979889551688, 'cell_type': 'LSTM', 'hidden_size': 42, 'num_layers': 10, 'dropout': 0.01141540953855738}. Best is trial 0 with value: 0.8728100061416626.\u001b[0m\n",
            "/usr/local/lib/python3.8/dist-packages/torch/nn/modules/rnn.py:67: UserWarning: dropout option adds dropout after all but last recurrent layer, so non-zero dropout expects num_layers greater than 1, but got dropout=0.017362485726731824 and num_layers=1\n",
            "  warnings.warn(\"dropout option adds dropout after all but last \"\n"
          ]
        },
        {
          "output_type": "stream",
          "name": "stdout",
          "text": [
            "Using cuda\n"
          ]
        },
        {
          "output_type": "stream",
          "name": "stderr",
          "text": [
            "\u001b[32m[I 2023-01-16 13:44:35,920]\u001b[0m Trial 2 finished with value: 0.8679660558700562 and parameters: {'learning_rate': 0.0016268676311938463, 'cell_type': 'GRU', 'hidden_size': 64, 'num_layers': 7, 'dropout': 0.017362485726731824}. Best is trial 0 with value: 0.8728100061416626.\u001b[0m\n",
            "/usr/local/lib/python3.8/dist-packages/torch/nn/modules/rnn.py:67: UserWarning: dropout option adds dropout after all but last recurrent layer, so non-zero dropout expects num_layers greater than 1, but got dropout=0.01850950562006979 and num_layers=1\n",
            "  warnings.warn(\"dropout option adds dropout after all but last \"\n"
          ]
        },
        {
          "output_type": "stream",
          "name": "stdout",
          "text": [
            "Using cuda\n"
          ]
        },
        {
          "output_type": "stream",
          "name": "stderr",
          "text": [
            "\u001b[32m[I 2023-01-16 13:47:40,072]\u001b[0m Trial 3 finished with value: 0.8537068367004395 and parameters: {'learning_rate': 0.0032440805798512606, 'cell_type': 'LSTM', 'hidden_size': 43, 'num_layers': 4, 'dropout': 0.01850950562006979}. Best is trial 0 with value: 0.8728100061416626.\u001b[0m\n",
            "/usr/local/lib/python3.8/dist-packages/torch/nn/modules/rnn.py:67: UserWarning: dropout option adds dropout after all but last recurrent layer, so non-zero dropout expects num_layers greater than 1, but got dropout=0.02193901400695759 and num_layers=1\n",
            "  warnings.warn(\"dropout option adds dropout after all but last \"\n"
          ]
        },
        {
          "output_type": "stream",
          "name": "stdout",
          "text": [
            "Using cuda\n"
          ]
        },
        {
          "output_type": "stream",
          "name": "stderr",
          "text": [
            "\u001b[32m[I 2023-01-16 13:52:47,777]\u001b[0m Trial 4 finished with value: 0.8511274456977844 and parameters: {'learning_rate': 0.009020712119013858, 'cell_type': 'GRU', 'hidden_size': 39, 'num_layers': 9, 'dropout': 0.02193901400695759}. Best is trial 0 with value: 0.8728100061416626.\u001b[0m\n",
            "/usr/local/lib/python3.8/dist-packages/torch/nn/modules/rnn.py:67: UserWarning: dropout option adds dropout after all but last recurrent layer, so non-zero dropout expects num_layers greater than 1, but got dropout=0.07226872317553729 and num_layers=1\n",
            "  warnings.warn(\"dropout option adds dropout after all but last \"\n"
          ]
        },
        {
          "output_type": "stream",
          "name": "stdout",
          "text": [
            "Using cuda\n"
          ]
        },
        {
          "output_type": "stream",
          "name": "stderr",
          "text": [
            "\u001b[32m[I 2023-01-16 13:54:41,336]\u001b[0m Trial 5 finished with value: 0.8632097244262695 and parameters: {'learning_rate': 0.008406777755339816, 'cell_type': 'GRU', 'hidden_size': 52, 'num_layers': 2, 'dropout': 0.07226872317553729}. Best is trial 0 with value: 0.8728100061416626.\u001b[0m\n",
            "/usr/local/lib/python3.8/dist-packages/torch/nn/modules/rnn.py:67: UserWarning: dropout option adds dropout after all but last recurrent layer, so non-zero dropout expects num_layers greater than 1, but got dropout=0.025168282579724102 and num_layers=1\n",
            "  warnings.warn(\"dropout option adds dropout after all but last \"\n"
          ]
        },
        {
          "output_type": "stream",
          "name": "stdout",
          "text": [
            "Using cuda\n"
          ]
        },
        {
          "output_type": "stream",
          "name": "stderr",
          "text": [
            "\u001b[32m[I 2023-01-16 13:59:42,986]\u001b[0m Trial 6 finished with value: 0.8649165034294128 and parameters: {'learning_rate': 0.0010538090722653811, 'cell_type': 'GRU', 'hidden_size': 57, 'num_layers': 6, 'dropout': 0.025168282579724102}. Best is trial 0 with value: 0.8728100061416626.\u001b[0m\n",
            "/usr/local/lib/python3.8/dist-packages/torch/nn/modules/rnn.py:67: UserWarning: dropout option adds dropout after all but last recurrent layer, so non-zero dropout expects num_layers greater than 1, but got dropout=0.021953097995575335 and num_layers=1\n",
            "  warnings.warn(\"dropout option adds dropout after all but last \"\n"
          ]
        },
        {
          "output_type": "stream",
          "name": "stdout",
          "text": [
            "Using cuda\n"
          ]
        },
        {
          "output_type": "stream",
          "name": "stderr",
          "text": [
            "\u001b[32m[I 2023-01-16 14:03:05,157]\u001b[0m Trial 7 finished with value: 0.6684850454330444 and parameters: {'learning_rate': 0.002931883694961091, 'cell_type': 'LSTM', 'hidden_size': 20, 'num_layers': 9, 'dropout': 0.021953097995575335}. Best is trial 0 with value: 0.8728100061416626.\u001b[0m\n",
            "/usr/local/lib/python3.8/dist-packages/torch/nn/modules/rnn.py:67: UserWarning: dropout option adds dropout after all but last recurrent layer, so non-zero dropout expects num_layers greater than 1, but got dropout=0.04286214703844243 and num_layers=1\n",
            "  warnings.warn(\"dropout option adds dropout after all but last \"\n"
          ]
        },
        {
          "output_type": "stream",
          "name": "stdout",
          "text": [
            "Using cuda\n"
          ]
        },
        {
          "output_type": "stream",
          "name": "stderr",
          "text": [
            "\u001b[32m[I 2023-01-16 14:06:32,523]\u001b[0m Trial 8 finished with value: 0.8717403411865234 and parameters: {'learning_rate': 0.0066190487743544675, 'cell_type': 'GRU', 'hidden_size': 55, 'num_layers': 4, 'dropout': 0.04286214703844243}. Best is trial 0 with value: 0.8728100061416626.\u001b[0m\n",
            "/usr/local/lib/python3.8/dist-packages/torch/nn/modules/rnn.py:67: UserWarning: dropout option adds dropout after all but last recurrent layer, so non-zero dropout expects num_layers greater than 1, but got dropout=0.029375871591227457 and num_layers=1\n",
            "  warnings.warn(\"dropout option adds dropout after all but last \"\n"
          ]
        },
        {
          "output_type": "stream",
          "name": "stdout",
          "text": [
            "Using cuda\n"
          ]
        },
        {
          "output_type": "stream",
          "name": "stderr",
          "text": [
            "\u001b[32m[I 2023-01-16 14:07:47,069]\u001b[0m Trial 9 finished with value: 0.8630489110946655 and parameters: {'learning_rate': 0.002267769246139344, 'cell_type': 'GRU', 'hidden_size': 28, 'num_layers': 2, 'dropout': 0.029375871591227457}. Best is trial 0 with value: 0.8728100061416626.\u001b[0m\n",
            "/usr/local/lib/python3.8/dist-packages/torch/nn/modules/rnn.py:67: UserWarning: dropout option adds dropout after all but last recurrent layer, so non-zero dropout expects num_layers greater than 1, but got dropout=0.045288750799928036 and num_layers=1\n",
            "  warnings.warn(\"dropout option adds dropout after all but last \"\n"
          ]
        },
        {
          "output_type": "stream",
          "name": "stdout",
          "text": [
            "Using cuda\n"
          ]
        },
        {
          "output_type": "stream",
          "name": "stderr",
          "text": [
            "\u001b[32m[I 2023-01-16 14:10:53,382]\u001b[0m Trial 10 finished with value: 0.8438441753387451 and parameters: {'learning_rate': 0.00029549066272782057, 'cell_type': 'LSTM', 'hidden_size': 30, 'num_layers': 7, 'dropout': 0.045288750799928036}. Best is trial 0 with value: 0.8728100061416626.\u001b[0m\n",
            "/usr/local/lib/python3.8/dist-packages/torch/nn/modules/rnn.py:67: UserWarning: dropout option adds dropout after all but last recurrent layer, so non-zero dropout expects num_layers greater than 1, but got dropout=0.03873866659216112 and num_layers=1\n",
            "  warnings.warn(\"dropout option adds dropout after all but last \"\n"
          ]
        },
        {
          "output_type": "stream",
          "name": "stdout",
          "text": [
            "Using cuda\n"
          ]
        },
        {
          "output_type": "stream",
          "name": "stderr",
          "text": [
            "\u001b[32m[I 2023-01-16 14:14:05,985]\u001b[0m Trial 11 finished with value: 0.871421754360199 and parameters: {'learning_rate': 0.0003918414157153518, 'cell_type': 'GRU', 'hidden_size': 51, 'num_layers': 4, 'dropout': 0.03873866659216112}. Best is trial 0 with value: 0.8728100061416626.\u001b[0m\n",
            "/usr/local/lib/python3.8/dist-packages/torch/nn/modules/rnn.py:67: UserWarning: dropout option adds dropout after all but last recurrent layer, so non-zero dropout expects num_layers greater than 1, but got dropout=0.05641170436457219 and num_layers=1\n",
            "  warnings.warn(\"dropout option adds dropout after all but last \"\n"
          ]
        },
        {
          "output_type": "stream",
          "name": "stdout",
          "text": [
            "Using cuda\n"
          ]
        },
        {
          "output_type": "stream",
          "name": "stderr",
          "text": [
            "\u001b[32m[I 2023-01-16 14:17:36,508]\u001b[0m Trial 12 finished with value: 0.8645263910293579 and parameters: {'learning_rate': 0.00046306164124151384, 'cell_type': 'GRU', 'hidden_size': 64, 'num_layers': 4, 'dropout': 0.05641170436457219}. Best is trial 0 with value: 0.8728100061416626.\u001b[0m\n",
            "/usr/local/lib/python3.8/dist-packages/torch/nn/modules/rnn.py:67: UserWarning: dropout option adds dropout after all but last recurrent layer, so non-zero dropout expects num_layers greater than 1, but got dropout=0.034569929238495146 and num_layers=1\n",
            "  warnings.warn(\"dropout option adds dropout after all but last \"\n"
          ]
        },
        {
          "output_type": "stream",
          "name": "stdout",
          "text": [
            "Using cuda\n"
          ]
        },
        {
          "output_type": "stream",
          "name": "stderr",
          "text": [
            "\u001b[32m[I 2023-01-16 14:20:31,082]\u001b[0m Trial 13 finished with value: 0.8665132522583008 and parameters: {'learning_rate': 0.00018299685030887775, 'cell_type': 'GRU', 'hidden_size': 34, 'num_layers': 5, 'dropout': 0.034569929238495146}. Best is trial 0 with value: 0.8728100061416626.\u001b[0m\n",
            "/usr/local/lib/python3.8/dist-packages/torch/nn/modules/rnn.py:67: UserWarning: dropout option adds dropout after all but last recurrent layer, so non-zero dropout expects num_layers greater than 1, but got dropout=0.05888714843828612 and num_layers=1\n",
            "  warnings.warn(\"dropout option adds dropout after all but last \"\n"
          ]
        },
        {
          "output_type": "stream",
          "name": "stdout",
          "text": [
            "Using cuda\n"
          ]
        },
        {
          "output_type": "stream",
          "name": "stderr",
          "text": [
            "\u001b[32m[I 2023-01-16 14:21:45,978]\u001b[0m Trial 14 finished with value: 0.8674743175506592 and parameters: {'learning_rate': 0.0008093996492849836, 'cell_type': 'GRU', 'hidden_size': 49, 'num_layers': 1, 'dropout': 0.05888714843828612}. Best is trial 0 with value: 0.8728100061416626.\u001b[0m\n",
            "/usr/local/lib/python3.8/dist-packages/torch/nn/modules/rnn.py:67: UserWarning: dropout option adds dropout after all but last recurrent layer, so non-zero dropout expects num_layers greater than 1, but got dropout=0.04563100461318768 and num_layers=1\n",
            "  warnings.warn(\"dropout option adds dropout after all but last \"\n"
          ]
        },
        {
          "output_type": "stream",
          "name": "stdout",
          "text": [
            "Using cuda\n"
          ]
        },
        {
          "output_type": "stream",
          "name": "stderr",
          "text": [
            "\u001b[32m[I 2023-01-16 14:26:46,784]\u001b[0m Trial 15 finished with value: 0.866557240486145 and parameters: {'learning_rate': 0.005183310703907376, 'cell_type': 'GRU', 'hidden_size': 57, 'num_layers': 6, 'dropout': 0.04563100461318768}. Best is trial 0 with value: 0.8728100061416626.\u001b[0m\n",
            "/usr/local/lib/python3.8/dist-packages/torch/nn/modules/rnn.py:67: UserWarning: dropout option adds dropout after all but last recurrent layer, so non-zero dropout expects num_layers greater than 1, but got dropout=0.07971027416729584 and num_layers=1\n",
            "  warnings.warn(\"dropout option adds dropout after all but last \"\n"
          ]
        },
        {
          "output_type": "stream",
          "name": "stdout",
          "text": [
            "Using cuda\n"
          ]
        },
        {
          "output_type": "stream",
          "name": "stderr",
          "text": [
            "\u001b[32m[I 2023-01-16 14:28:13,711]\u001b[0m Trial 16 finished with value: 0.8705813884735107 and parameters: {'learning_rate': 0.0007745276790536784, 'cell_type': 'GRU', 'hidden_size': 21, 'num_layers': 3, 'dropout': 0.07971027416729584}. Best is trial 0 with value: 0.8728100061416626.\u001b[0m\n",
            "/usr/local/lib/python3.8/dist-packages/torch/nn/modules/rnn.py:67: UserWarning: dropout option adds dropout after all but last recurrent layer, so non-zero dropout expects num_layers greater than 1, but got dropout=0.03298870265782681 and num_layers=1\n",
            "  warnings.warn(\"dropout option adds dropout after all but last \"\n"
          ]
        },
        {
          "output_type": "stream",
          "name": "stdout",
          "text": [
            "Using cuda\n"
          ]
        },
        {
          "output_type": "stream",
          "name": "stderr",
          "text": [
            "\u001b[32m[I 2023-01-16 14:33:10,956]\u001b[0m Trial 17 finished with value: 0.8732922077178955 and parameters: {'learning_rate': 0.0012132076471154704, 'cell_type': 'GRU', 'hidden_size': 46, 'num_layers': 7, 'dropout': 0.03298870265782681}. Best is trial 17 with value: 0.8732922077178955.\u001b[0m\n",
            "/usr/local/lib/python3.8/dist-packages/torch/nn/modules/rnn.py:67: UserWarning: dropout option adds dropout after all but last recurrent layer, so non-zero dropout expects num_layers greater than 1, but got dropout=0.029251068602597026 and num_layers=1\n",
            "  warnings.warn(\"dropout option adds dropout after all but last \"\n"
          ]
        },
        {
          "output_type": "stream",
          "name": "stdout",
          "text": [
            "Using cuda\n"
          ]
        },
        {
          "output_type": "stream",
          "name": "stderr",
          "text": [
            "\u001b[32m[I 2023-01-16 14:38:41,625]\u001b[0m Trial 18 finished with value: 0.6745498776435852 and parameters: {'learning_rate': 0.0013178585210031886, 'cell_type': 'LSTM', 'hidden_size': 46, 'num_layers': 8, 'dropout': 0.029251068602597026}. Best is trial 17 with value: 0.8732922077178955.\u001b[0m\n",
            "/usr/local/lib/python3.8/dist-packages/torch/nn/modules/rnn.py:67: UserWarning: dropout option adds dropout after all but last recurrent layer, so non-zero dropout expects num_layers greater than 1, but got dropout=0.015853786329403766 and num_layers=1\n",
            "  warnings.warn(\"dropout option adds dropout after all but last \"\n"
          ]
        },
        {
          "output_type": "stream",
          "name": "stdout",
          "text": [
            "Using cuda\n"
          ]
        },
        {
          "output_type": "stream",
          "name": "stderr",
          "text": [
            "\u001b[32m[I 2023-01-16 14:42:41,260]\u001b[0m Trial 19 finished with value: 0.8760026097297668 and parameters: {'learning_rate': 0.0005448990796029992, 'cell_type': 'GRU', 'hidden_size': 35, 'num_layers': 7, 'dropout': 0.015853786329403766}. Best is trial 19 with value: 0.8760026097297668.\u001b[0m\n",
            "/usr/local/lib/python3.8/dist-packages/torch/nn/modules/rnn.py:67: UserWarning: dropout option adds dropout after all but last recurrent layer, so non-zero dropout expects num_layers greater than 1, but got dropout=0.011828357901082593 and num_layers=1\n",
            "  warnings.warn(\"dropout option adds dropout after all but last \"\n"
          ]
        },
        {
          "output_type": "stream",
          "name": "stdout",
          "text": [
            "Using cuda\n"
          ]
        },
        {
          "output_type": "stream",
          "name": "stderr",
          "text": [
            "\u001b[32m[I 2023-01-16 14:47:10,002]\u001b[0m Trial 20 finished with value: 0.8744859099388123 and parameters: {'learning_rate': 0.0006708622042691921, 'cell_type': 'GRU', 'hidden_size': 35, 'num_layers': 8, 'dropout': 0.011828357901082593}. Best is trial 19 with value: 0.8760026097297668.\u001b[0m\n",
            "/usr/local/lib/python3.8/dist-packages/torch/nn/modules/rnn.py:67: UserWarning: dropout option adds dropout after all but last recurrent layer, so non-zero dropout expects num_layers greater than 1, but got dropout=0.01012524187723826 and num_layers=1\n",
            "  warnings.warn(\"dropout option adds dropout after all but last \"\n"
          ]
        },
        {
          "output_type": "stream",
          "name": "stdout",
          "text": [
            "Using cuda\n"
          ]
        },
        {
          "output_type": "stream",
          "name": "stderr",
          "text": [
            "\u001b[32m[I 2023-01-16 14:51:37,502]\u001b[0m Trial 21 finished with value: 0.8675403594970703 and parameters: {'learning_rate': 0.0006410216704989865, 'cell_type': 'GRU', 'hidden_size': 35, 'num_layers': 8, 'dropout': 0.01012524187723826}. Best is trial 19 with value: 0.8760026097297668.\u001b[0m\n",
            "/usr/local/lib/python3.8/dist-packages/torch/nn/modules/rnn.py:67: UserWarning: dropout option adds dropout after all but last recurrent layer, so non-zero dropout expects num_layers greater than 1, but got dropout=0.013555526879028326 and num_layers=1\n",
            "  warnings.warn(\"dropout option adds dropout after all but last \"\n"
          ]
        },
        {
          "output_type": "stream",
          "name": "stdout",
          "text": [
            "Using cuda\n"
          ]
        },
        {
          "output_type": "stream",
          "name": "stderr",
          "text": [
            "\u001b[32m[I 2023-01-16 14:54:58,707]\u001b[0m Trial 22 finished with value: 0.875015377998352 and parameters: {'learning_rate': 0.0002403120817803723, 'cell_type': 'GRU', 'hidden_size': 26, 'num_layers': 8, 'dropout': 0.013555526879028326}. Best is trial 19 with value: 0.8760026097297668.\u001b[0m\n",
            "/usr/local/lib/python3.8/dist-packages/torch/nn/modules/rnn.py:67: UserWarning: dropout option adds dropout after all but last recurrent layer, so non-zero dropout expects num_layers greater than 1, but got dropout=0.013632051070537327 and num_layers=1\n",
            "  warnings.warn(\"dropout option adds dropout after all but last \"\n"
          ]
        },
        {
          "output_type": "stream",
          "name": "stdout",
          "text": [
            "Using cuda\n"
          ]
        },
        {
          "output_type": "stream",
          "name": "stderr",
          "text": [
            "\u001b[32m[I 2023-01-16 14:58:17,686]\u001b[0m Trial 23 finished with value: 0.8665542602539062 and parameters: {'learning_rate': 0.00020867471381569693, 'cell_type': 'GRU', 'hidden_size': 25, 'num_layers': 8, 'dropout': 0.013632051070537327}. Best is trial 19 with value: 0.8760026097297668.\u001b[0m\n",
            "/usr/local/lib/python3.8/dist-packages/torch/nn/modules/rnn.py:67: UserWarning: dropout option adds dropout after all but last recurrent layer, so non-zero dropout expects num_layers greater than 1, but got dropout=0.014124691963767791 and num_layers=1\n",
            "  warnings.warn(\"dropout option adds dropout after all but last \"\n"
          ]
        },
        {
          "output_type": "stream",
          "name": "stdout",
          "text": [
            "Using cuda\n"
          ]
        },
        {
          "output_type": "stream",
          "name": "stderr",
          "text": [
            "\u001b[32m[I 2023-01-16 15:03:44,636]\u001b[0m Trial 24 finished with value: 0.8704026341438293 and parameters: {'learning_rate': 0.00022433300751542205, 'cell_type': 'GRU', 'hidden_size': 35, 'num_layers': 10, 'dropout': 0.014124691963767791}. Best is trial 19 with value: 0.8760026097297668.\u001b[0m\n",
            "/usr/local/lib/python3.8/dist-packages/torch/nn/modules/rnn.py:67: UserWarning: dropout option adds dropout after all but last recurrent layer, so non-zero dropout expects num_layers greater than 1, but got dropout=0.013103709151478436 and num_layers=1\n",
            "  warnings.warn(\"dropout option adds dropout after all but last \"\n"
          ]
        },
        {
          "output_type": "stream",
          "name": "stdout",
          "text": [
            "Using cuda\n"
          ]
        },
        {
          "output_type": "stream",
          "name": "stderr",
          "text": [
            "\u001b[32m[I 2023-01-16 15:06:56,852]\u001b[0m Trial 25 finished with value: 0.8741373419761658 and parameters: {'learning_rate': 0.0005416532421935029, 'cell_type': 'GRU', 'hidden_size': 16, 'num_layers': 9, 'dropout': 0.013103709151478436}. Best is trial 19 with value: 0.8760026097297668.\u001b[0m\n",
            "/usr/local/lib/python3.8/dist-packages/torch/nn/modules/rnn.py:67: UserWarning: dropout option adds dropout after all but last recurrent layer, so non-zero dropout expects num_layers greater than 1, but got dropout=0.016236231461931917 and num_layers=1\n",
            "  warnings.warn(\"dropout option adds dropout after all but last \"\n"
          ]
        },
        {
          "output_type": "stream",
          "name": "stdout",
          "text": [
            "Using cuda\n"
          ]
        },
        {
          "output_type": "stream",
          "name": "stderr",
          "text": [
            "\u001b[32m[I 2023-01-16 15:10:05,299]\u001b[0m Trial 26 finished with value: 0.7534770369529724 and parameters: {'learning_rate': 0.00012435091274926776, 'cell_type': 'LSTM', 'hidden_size': 31, 'num_layers': 7, 'dropout': 0.016236231461931917}. Best is trial 19 with value: 0.8760026097297668.\u001b[0m\n",
            "/usr/local/lib/python3.8/dist-packages/torch/nn/modules/rnn.py:67: UserWarning: dropout option adds dropout after all but last recurrent layer, so non-zero dropout expects num_layers greater than 1, but got dropout=0.011464557647912077 and num_layers=1\n",
            "  warnings.warn(\"dropout option adds dropout after all but last \"\n"
          ]
        },
        {
          "output_type": "stream",
          "name": "stdout",
          "text": [
            "Using cuda\n"
          ]
        },
        {
          "output_type": "stream",
          "name": "stderr",
          "text": [
            "\u001b[32m[I 2023-01-16 15:13:25,150]\u001b[0m Trial 27 finished with value: 0.8692480325698853 and parameters: {'learning_rate': 0.0003022995808799771, 'cell_type': 'GRU', 'hidden_size': 25, 'num_layers': 8, 'dropout': 0.011464557647912077}. Best is trial 19 with value: 0.8760026097297668.\u001b[0m\n",
            "/usr/local/lib/python3.8/dist-packages/torch/nn/modules/rnn.py:67: UserWarning: dropout option adds dropout after all but last recurrent layer, so non-zero dropout expects num_layers greater than 1, but got dropout=0.015618863412214577 and num_layers=1\n",
            "  warnings.warn(\"dropout option adds dropout after all but last \"\n"
          ]
        },
        {
          "output_type": "stream",
          "name": "stdout",
          "text": [
            "Using cuda\n"
          ]
        },
        {
          "output_type": "stream",
          "name": "stderr",
          "text": [
            "\u001b[32m[I 2023-01-16 15:18:33,723]\u001b[0m Trial 28 finished with value: 0.873425304889679 and parameters: {'learning_rate': 0.0001586019046738695, 'cell_type': 'GRU', 'hidden_size': 38, 'num_layers': 9, 'dropout': 0.015618863412214577}. Best is trial 19 with value: 0.8760026097297668.\u001b[0m\n",
            "/usr/local/lib/python3.8/dist-packages/torch/nn/modules/rnn.py:67: UserWarning: dropout option adds dropout after all but last recurrent layer, so non-zero dropout expects num_layers greater than 1, but got dropout=0.019992928996993235 and num_layers=1\n",
            "  warnings.warn(\"dropout option adds dropout after all but last \"\n"
          ]
        },
        {
          "output_type": "stream",
          "name": "stdout",
          "text": [
            "Using cuda\n"
          ]
        },
        {
          "output_type": "stream",
          "name": "stderr",
          "text": [
            "\u001b[32m[I 2023-01-16 15:21:14,542]\u001b[0m Trial 29 finished with value: 0.874988317489624 and parameters: {'learning_rate': 0.0003446031838581041, 'cell_type': 'GRU', 'hidden_size': 27, 'num_layers': 6, 'dropout': 0.019992928996993235}. Best is trial 19 with value: 0.8760026097297668.\u001b[0m\n",
            "/usr/local/lib/python3.8/dist-packages/torch/nn/modules/rnn.py:67: UserWarning: dropout option adds dropout after all but last recurrent layer, so non-zero dropout expects num_layers greater than 1, but got dropout=0.01996164996028133 and num_layers=1\n",
            "  warnings.warn(\"dropout option adds dropout after all but last \"\n"
          ]
        },
        {
          "output_type": "stream",
          "name": "stdout",
          "text": [
            "Using cuda\n"
          ]
        },
        {
          "output_type": "stream",
          "name": "stderr",
          "text": [
            "\u001b[32m[I 2023-01-16 15:23:27,235]\u001b[0m Trial 30 finished with value: 0.8708149790763855 and parameters: {'learning_rate': 0.0002814482150233245, 'cell_type': 'GRU', 'hidden_size': 23, 'num_layers': 5, 'dropout': 0.01996164996028133}. Best is trial 19 with value: 0.8760026097297668.\u001b[0m\n",
            "/usr/local/lib/python3.8/dist-packages/torch/nn/modules/rnn.py:67: UserWarning: dropout option adds dropout after all but last recurrent layer, so non-zero dropout expects num_layers greater than 1, but got dropout=0.011916171241363785 and num_layers=1\n",
            "  warnings.warn(\"dropout option adds dropout after all but last \"\n"
          ]
        },
        {
          "output_type": "stream",
          "name": "stdout",
          "text": [
            "Using cuda\n"
          ]
        },
        {
          "output_type": "stream",
          "name": "stderr",
          "text": [
            "\u001b[32m[I 2023-01-16 15:26:07,312]\u001b[0m Trial 31 finished with value: 0.8679184913635254 and parameters: {'learning_rate': 0.00037629417496498114, 'cell_type': 'GRU', 'hidden_size': 28, 'num_layers': 6, 'dropout': 0.011916171241363785}. Best is trial 19 with value: 0.8760026097297668.\u001b[0m\n",
            "/usr/local/lib/python3.8/dist-packages/torch/nn/modules/rnn.py:67: UserWarning: dropout option adds dropout after all but last recurrent layer, so non-zero dropout expects num_layers greater than 1, but got dropout=0.014804528931131685 and num_layers=1\n",
            "  warnings.warn(\"dropout option adds dropout after all but last \"\n"
          ]
        },
        {
          "output_type": "stream",
          "name": "stdout",
          "text": [
            "Using cuda\n"
          ]
        },
        {
          "output_type": "stream",
          "name": "stderr",
          "text": [
            "\u001b[32m[I 2023-01-16 15:29:19,028]\u001b[0m Trial 32 finished with value: 0.8742731213569641 and parameters: {'learning_rate': 0.0006050550137973808, 'cell_type': 'GRU', 'hidden_size': 31, 'num_layers': 7, 'dropout': 0.014804528931131685}. Best is trial 19 with value: 0.8760026097297668.\u001b[0m\n",
            "/usr/local/lib/python3.8/dist-packages/torch/nn/modules/rnn.py:67: UserWarning: dropout option adds dropout after all but last recurrent layer, so non-zero dropout expects num_layers greater than 1, but got dropout=0.010228095593870246 and num_layers=1\n",
            "  warnings.warn(\"dropout option adds dropout after all but last \"\n"
          ]
        },
        {
          "output_type": "stream",
          "name": "stdout",
          "text": [
            "Using cuda\n"
          ]
        },
        {
          "output_type": "stream",
          "name": "stderr",
          "text": [
            "\u001b[32m[I 2023-01-16 15:33:51,874]\u001b[0m Trial 33 finished with value: 0.8671319484710693 and parameters: {'learning_rate': 0.000404178241246394, 'cell_type': 'GRU', 'hidden_size': 37, 'num_layers': 8, 'dropout': 0.010228095593870246}. Best is trial 19 with value: 0.8760026097297668.\u001b[0m\n",
            "/usr/local/lib/python3.8/dist-packages/torch/nn/modules/rnn.py:67: UserWarning: dropout option adds dropout after all but last recurrent layer, so non-zero dropout expects num_layers greater than 1, but got dropout=0.017751178762946747 and num_layers=1\n",
            "  warnings.warn(\"dropout option adds dropout after all but last \"\n"
          ]
        },
        {
          "output_type": "stream",
          "name": "stdout",
          "text": [
            "Using cuda\n"
          ]
        },
        {
          "output_type": "stream",
          "name": "stderr",
          "text": [
            "\u001b[32m[I 2023-01-16 15:38:02,674]\u001b[0m Trial 34 finished with value: 0.830321729183197 and parameters: {'learning_rate': 0.00013555076346299794, 'cell_type': 'LSTM', 'hidden_size': 41, 'num_layers': 6, 'dropout': 0.017751178762946747}. Best is trial 19 with value: 0.8760026097297668.\u001b[0m\n",
            "/usr/local/lib/python3.8/dist-packages/torch/nn/modules/rnn.py:67: UserWarning: dropout option adds dropout after all but last recurrent layer, so non-zero dropout expects num_layers greater than 1, but got dropout=0.012123714018940274 and num_layers=1\n",
            "  warnings.warn(\"dropout option adds dropout after all but last \"\n"
          ]
        },
        {
          "output_type": "stream",
          "name": "stdout",
          "text": [
            "Using cuda\n"
          ]
        },
        {
          "output_type": "stream",
          "name": "stderr",
          "text": [
            "\u001b[32m[I 2023-01-16 15:40:57,284]\u001b[0m Trial 35 finished with value: 0.8703532814979553 and parameters: {'learning_rate': 0.0008076358941849364, 'cell_type': 'GRU', 'hidden_size': 33, 'num_layers': 5, 'dropout': 0.012123714018940274}. Best is trial 19 with value: 0.8760026097297668.\u001b[0m\n",
            "/usr/local/lib/python3.8/dist-packages/torch/nn/modules/rnn.py:67: UserWarning: dropout option adds dropout after all but last recurrent layer, so non-zero dropout expects num_layers greater than 1, but got dropout=0.021782368031958748 and num_layers=1\n",
            "  warnings.warn(\"dropout option adds dropout after all but last \"\n"
          ]
        },
        {
          "output_type": "stream",
          "name": "stdout",
          "text": [
            "Using cuda\n"
          ]
        },
        {
          "output_type": "stream",
          "name": "stderr",
          "text": [
            "\u001b[32m[I 2023-01-16 15:45:04,039]\u001b[0m Trial 36 finished with value: 0.8740432858467102 and parameters: {'learning_rate': 0.00026760241586553177, 'cell_type': 'GRU', 'hidden_size': 27, 'num_layers': 10, 'dropout': 0.021782368031958748}. Best is trial 19 with value: 0.8760026097297668.\u001b[0m\n",
            "/usr/local/lib/python3.8/dist-packages/torch/nn/modules/rnn.py:67: UserWarning: dropout option adds dropout after all but last recurrent layer, so non-zero dropout expects num_layers greater than 1, but got dropout=0.019652849734643672 and num_layers=1\n",
            "  warnings.warn(\"dropout option adds dropout after all but last \"\n"
          ]
        },
        {
          "output_type": "stream",
          "name": "stdout",
          "text": [
            "Using cuda\n"
          ]
        },
        {
          "output_type": "stream",
          "name": "stderr",
          "text": [
            "\u001b[32m[I 2023-01-16 15:48:08,743]\u001b[0m Trial 37 finished with value: 0.8605154752731323 and parameters: {'learning_rate': 0.00010004377506792558, 'cell_type': 'GRU', 'hidden_size': 32, 'num_layers': 7, 'dropout': 0.019652849734643672}. Best is trial 19 with value: 0.8760026097297668.\u001b[0m\n",
            "/usr/local/lib/python3.8/dist-packages/torch/nn/modules/rnn.py:67: UserWarning: dropout option adds dropout after all but last recurrent layer, so non-zero dropout expects num_layers greater than 1, but got dropout=0.024117500646278357 and num_layers=1\n",
            "  warnings.warn(\"dropout option adds dropout after all but last \"\n"
          ]
        },
        {
          "output_type": "stream",
          "name": "stdout",
          "text": [
            "Using cuda\n"
          ]
        },
        {
          "output_type": "stream",
          "name": "stderr",
          "text": [
            "\u001b[32m[I 2023-01-16 15:51:21,150]\u001b[0m Trial 38 finished with value: 0.6684850454330444 and parameters: {'learning_rate': 0.0016151952102195048, 'cell_type': 'LSTM', 'hidden_size': 16, 'num_layers': 9, 'dropout': 0.024117500646278357}. Best is trial 19 with value: 0.8760026097297668.\u001b[0m\n",
            "/usr/local/lib/python3.8/dist-packages/torch/nn/modules/rnn.py:67: UserWarning: dropout option adds dropout after all but last recurrent layer, so non-zero dropout expects num_layers greater than 1, but got dropout=0.016529531545398584 and num_layers=1\n",
            "  warnings.warn(\"dropout option adds dropout after all but last \"\n"
          ]
        },
        {
          "output_type": "stream",
          "name": "stdout",
          "text": [
            "Using cuda\n"
          ]
        },
        {
          "output_type": "stream",
          "name": "stderr",
          "text": [
            "\u001b[32m[I 2023-01-16 15:56:08,427]\u001b[0m Trial 39 finished with value: 0.8700835704803467 and parameters: {'learning_rate': 0.0005397863973916267, 'cell_type': 'GRU', 'hidden_size': 43, 'num_layers': 7, 'dropout': 0.016529531545398584}. Best is trial 19 with value: 0.8760026097297668.\u001b[0m\n",
            "/usr/local/lib/python3.8/dist-packages/torch/nn/modules/rnn.py:67: UserWarning: dropout option adds dropout after all but last recurrent layer, so non-zero dropout expects num_layers greater than 1, but got dropout=0.018280326097154055 and num_layers=1\n",
            "  warnings.warn(\"dropout option adds dropout after all but last \"\n"
          ]
        },
        {
          "output_type": "stream",
          "name": "stdout",
          "text": [
            "Using cuda\n"
          ]
        },
        {
          "output_type": "stream",
          "name": "stderr",
          "text": [
            "\u001b[32m[I 2023-01-16 15:59:09,631]\u001b[0m Trial 40 finished with value: 0.8648709058761597 and parameters: {'learning_rate': 0.000980323294788512, 'cell_type': 'GRU', 'hidden_size': 20, 'num_layers': 8, 'dropout': 0.018280326097154055}. Best is trial 19 with value: 0.8760026097297668.\u001b[0m\n",
            "/usr/local/lib/python3.8/dist-packages/torch/nn/modules/rnn.py:67: UserWarning: dropout option adds dropout after all but last recurrent layer, so non-zero dropout expects num_layers greater than 1, but got dropout=0.015030634277509225 and num_layers=1\n",
            "  warnings.warn(\"dropout option adds dropout after all but last \"\n"
          ]
        },
        {
          "output_type": "stream",
          "name": "stdout",
          "text": [
            "Using cuda\n"
          ]
        },
        {
          "output_type": "stream",
          "name": "stderr",
          "text": [
            "\u001b[32m[I 2023-01-16 16:02:18,198]\u001b[0m Trial 41 finished with value: 0.8690547943115234 and parameters: {'learning_rate': 0.0005651964507316543, 'cell_type': 'GRU', 'hidden_size': 30, 'num_layers': 7, 'dropout': 0.015030634277509225}. Best is trial 19 with value: 0.8760026097297668.\u001b[0m\n",
            "/usr/local/lib/python3.8/dist-packages/torch/nn/modules/rnn.py:67: UserWarning: dropout option adds dropout after all but last recurrent layer, so non-zero dropout expects num_layers greater than 1, but got dropout=0.012623607836788904 and num_layers=1\n",
            "  warnings.warn(\"dropout option adds dropout after all but last \"\n"
          ]
        },
        {
          "output_type": "stream",
          "name": "stdout",
          "text": [
            "Using cuda\n"
          ]
        },
        {
          "output_type": "stream",
          "name": "stderr",
          "text": [
            "\u001b[32m[I 2023-01-16 16:05:51,333]\u001b[0m Trial 42 finished with value: 0.869086742401123 and parameters: {'learning_rate': 0.0006654301155845364, 'cell_type': 'GRU', 'hidden_size': 37, 'num_layers': 6, 'dropout': 0.012623607836788904}. Best is trial 19 with value: 0.8760026097297668.\u001b[0m\n",
            "/usr/local/lib/python3.8/dist-packages/torch/nn/modules/rnn.py:67: UserWarning: dropout option adds dropout after all but last recurrent layer, so non-zero dropout expects num_layers greater than 1, but got dropout=0.014611689584029891 and num_layers=1\n",
            "  warnings.warn(\"dropout option adds dropout after all but last \"\n"
          ]
        },
        {
          "output_type": "stream",
          "name": "stdout",
          "text": [
            "Using cuda\n"
          ]
        },
        {
          "output_type": "stream",
          "name": "stderr",
          "text": [
            "\u001b[32m[I 2023-01-16 16:08:49,891]\u001b[0m Trial 43 finished with value: 0.8739296793937683 and parameters: {'learning_rate': 0.00036279718932268615, 'cell_type': 'GRU', 'hidden_size': 26, 'num_layers': 7, 'dropout': 0.014611689584029891}. Best is trial 19 with value: 0.8760026097297668.\u001b[0m\n",
            "/usr/local/lib/python3.8/dist-packages/torch/nn/modules/rnn.py:67: UserWarning: dropout option adds dropout after all but last recurrent layer, so non-zero dropout expects num_layers greater than 1, but got dropout=0.010921842661242697 and num_layers=1\n",
            "  warnings.warn(\"dropout option adds dropout after all but last \"\n"
          ]
        },
        {
          "output_type": "stream",
          "name": "stdout",
          "text": [
            "Using cuda\n"
          ]
        },
        {
          "output_type": "stream",
          "name": "stderr",
          "text": [
            "\u001b[32m[I 2023-01-16 16:11:34,228]\u001b[0m Trial 44 finished with value: 0.864834189414978 and parameters: {'learning_rate': 0.00023847297571807905, 'cell_type': 'GRU', 'hidden_size': 29, 'num_layers': 6, 'dropout': 0.010921842661242697}. Best is trial 19 with value: 0.8760026097297668.\u001b[0m\n",
            "/usr/local/lib/python3.8/dist-packages/torch/nn/modules/rnn.py:67: UserWarning: dropout option adds dropout after all but last recurrent layer, so non-zero dropout expects num_layers greater than 1, but got dropout=0.024881138530149758 and num_layers=1\n",
            "  warnings.warn(\"dropout option adds dropout after all but last \"\n"
          ]
        },
        {
          "output_type": "stream",
          "name": "stdout",
          "text": [
            "Using cuda\n"
          ]
        },
        {
          "output_type": "stream",
          "name": "stderr",
          "text": [
            "\u001b[32m[I 2023-01-16 16:14:46,937]\u001b[0m Trial 45 finished with value: 0.8706638813018799 and parameters: {'learning_rate': 0.0004835440333770842, 'cell_type': 'GRU', 'hidden_size': 23, 'num_layers': 8, 'dropout': 0.024881138530149758}. Best is trial 19 with value: 0.8760026097297668.\u001b[0m\n",
            "/usr/local/lib/python3.8/dist-packages/torch/nn/modules/rnn.py:67: UserWarning: dropout option adds dropout after all but last recurrent layer, so non-zero dropout expects num_layers greater than 1, but got dropout=0.013113587781951867 and num_layers=1\n",
            "  warnings.warn(\"dropout option adds dropout after all but last \"\n"
          ]
        },
        {
          "output_type": "stream",
          "name": "stdout",
          "text": [
            "Using cuda\n"
          ]
        },
        {
          "output_type": "stream",
          "name": "stderr",
          "text": [
            "\u001b[32m[I 2023-01-16 16:17:49,691]\u001b[0m Trial 46 finished with value: 0.8721668124198914 and parameters: {'learning_rate': 0.00033179922369424246, 'cell_type': 'GRU', 'hidden_size': 40, 'num_layers': 5, 'dropout': 0.013113587781951867}. Best is trial 19 with value: 0.8760026097297668.\u001b[0m\n",
            "/usr/local/lib/python3.8/dist-packages/torch/nn/modules/rnn.py:67: UserWarning: dropout option adds dropout after all but last recurrent layer, so non-zero dropout expects num_layers greater than 1, but got dropout=0.017081465256128622 and num_layers=1\n",
            "  warnings.warn(\"dropout option adds dropout after all but last \"\n"
          ]
        },
        {
          "output_type": "stream",
          "name": "stdout",
          "text": [
            "Using cuda\n"
          ]
        },
        {
          "output_type": "stream",
          "name": "stderr",
          "text": [
            "\u001b[32m[I 2023-01-16 16:22:04,518]\u001b[0m Trial 47 finished with value: 0.8741434216499329 and parameters: {'learning_rate': 0.0009890626370248098, 'cell_type': 'LSTM', 'hidden_size': 33, 'num_layers': 7, 'dropout': 0.017081465256128622}. Best is trial 19 with value: 0.8760026097297668.\u001b[0m\n",
            "/usr/local/lib/python3.8/dist-packages/torch/nn/modules/rnn.py:67: UserWarning: dropout option adds dropout after all but last recurrent layer, so non-zero dropout expects num_layers greater than 1, but got dropout=0.020427574986522656 and num_layers=1\n",
            "  warnings.warn(\"dropout option adds dropout after all but last \"\n"
          ]
        },
        {
          "output_type": "stream",
          "name": "stdout",
          "text": [
            "Using cuda\n"
          ]
        },
        {
          "output_type": "stream",
          "name": "stderr",
          "text": [
            "\u001b[32m[I 2023-01-16 16:26:59,547]\u001b[0m Trial 48 finished with value: 0.8739166855812073 and parameters: {'learning_rate': 0.00016869416598448462, 'cell_type': 'GRU', 'hidden_size': 36, 'num_layers': 9, 'dropout': 0.020427574986522656}. Best is trial 19 with value: 0.8760026097297668.\u001b[0m\n",
            "/usr/local/lib/python3.8/dist-packages/torch/nn/modules/rnn.py:67: UserWarning: dropout option adds dropout after all but last recurrent layer, so non-zero dropout expects num_layers greater than 1, but got dropout=0.01489009081409484 and num_layers=1\n",
            "  warnings.warn(\"dropout option adds dropout after all but last \"\n"
          ]
        },
        {
          "output_type": "stream",
          "name": "stdout",
          "text": [
            "Using cuda\n"
          ]
        },
        {
          "output_type": "stream",
          "name": "stderr",
          "text": [
            "\u001b[32m[I 2023-01-16 16:29:48,233]\u001b[0m Trial 49 finished with value: 0.8724969029426575 and parameters: {'learning_rate': 0.0021295235654221756, 'cell_type': 'GRU', 'hidden_size': 31, 'num_layers': 6, 'dropout': 0.01489009081409484}. Best is trial 19 with value: 0.8760026097297668.\u001b[0m\n",
            "/usr/local/lib/python3.8/dist-packages/torch/nn/modules/rnn.py:67: UserWarning: dropout option adds dropout after all but last recurrent layer, so non-zero dropout expects num_layers greater than 1, but got dropout=0.010838564966616344 and num_layers=1\n",
            "  warnings.warn(\"dropout option adds dropout after all but last \"\n"
          ]
        },
        {
          "output_type": "stream",
          "name": "stdout",
          "text": [
            "Using cuda\n"
          ]
        },
        {
          "output_type": "stream",
          "name": "stderr",
          "text": [
            "\u001b[32m[I 2023-01-16 16:32:41,588]\u001b[0m Trial 50 finished with value: 0.868747889995575 and parameters: {'learning_rate': 0.0006873974852831956, 'cell_type': 'GRU', 'hidden_size': 23, 'num_layers': 7, 'dropout': 0.010838564966616344}. Best is trial 19 with value: 0.8760026097297668.\u001b[0m\n",
            "/usr/local/lib/python3.8/dist-packages/torch/nn/modules/rnn.py:67: UserWarning: dropout option adds dropout after all but last recurrent layer, so non-zero dropout expects num_layers greater than 1, but got dropout=0.016832341814352395 and num_layers=1\n",
            "  warnings.warn(\"dropout option adds dropout after all but last \"\n"
          ]
        },
        {
          "output_type": "stream",
          "name": "stdout",
          "text": [
            "Using cuda\n"
          ]
        },
        {
          "output_type": "stream",
          "name": "stderr",
          "text": [
            "\u001b[32m[I 2023-01-16 16:36:54,523]\u001b[0m Trial 51 finished with value: 0.6684850454330444 and parameters: {'learning_rate': 0.0008871071838479456, 'cell_type': 'LSTM', 'hidden_size': 34, 'num_layers': 7, 'dropout': 0.016832341814352395}. Best is trial 19 with value: 0.8760026097297668.\u001b[0m\n",
            "/usr/local/lib/python3.8/dist-packages/torch/nn/modules/rnn.py:67: UserWarning: dropout option adds dropout after all but last recurrent layer, so non-zero dropout expects num_layers greater than 1, but got dropout=0.018481789961165892 and num_layers=1\n",
            "  warnings.warn(\"dropout option adds dropout after all but last \"\n"
          ]
        },
        {
          "output_type": "stream",
          "name": "stdout",
          "text": [
            "Using cuda\n"
          ]
        },
        {
          "output_type": "stream",
          "name": "stderr",
          "text": [
            "\u001b[32m[I 2023-01-16 16:40:21,446]\u001b[0m Trial 52 finished with value: 0.8697510361671448 and parameters: {'learning_rate': 0.0010686848853059632, 'cell_type': 'LSTM', 'hidden_size': 32, 'num_layers': 8, 'dropout': 0.018481789961165892}. Best is trial 19 with value: 0.8760026097297668.\u001b[0m\n",
            "/usr/local/lib/python3.8/dist-packages/torch/nn/modules/rnn.py:67: UserWarning: dropout option adds dropout after all but last recurrent layer, so non-zero dropout expects num_layers greater than 1, but got dropout=0.02274768962615369 and num_layers=1\n",
            "  warnings.warn(\"dropout option adds dropout after all but last \"\n"
          ]
        },
        {
          "output_type": "stream",
          "name": "stdout",
          "text": [
            "Using cuda\n"
          ]
        },
        {
          "output_type": "stream",
          "name": "stderr",
          "text": [
            "\u001b[32m[I 2023-01-16 16:44:45,549]\u001b[0m Trial 53 finished with value: 0.8101295232772827 and parameters: {'learning_rate': 0.0014675616991947846, 'cell_type': 'LSTM', 'hidden_size': 39, 'num_layers': 7, 'dropout': 0.02274768962615369}. Best is trial 19 with value: 0.8760026097297668.\u001b[0m\n",
            "/usr/local/lib/python3.8/dist-packages/torch/nn/modules/rnn.py:67: UserWarning: dropout option adds dropout after all but last recurrent layer, so non-zero dropout expects num_layers greater than 1, but got dropout=0.013542673196900747 and num_layers=1\n",
            "  warnings.warn(\"dropout option adds dropout after all but last \"\n"
          ]
        },
        {
          "output_type": "stream",
          "name": "stdout",
          "text": [
            "Using cuda\n"
          ]
        },
        {
          "output_type": "stream",
          "name": "stderr",
          "text": [
            "\u001b[32m[I 2023-01-16 16:48:06,270]\u001b[0m Trial 54 finished with value: 0.7331066727638245 and parameters: {'learning_rate': 0.00047729955071387423, 'cell_type': 'LSTM', 'hidden_size': 28, 'num_layers': 8, 'dropout': 0.013542673196900747}. Best is trial 19 with value: 0.8760026097297668.\u001b[0m\n",
            "/usr/local/lib/python3.8/dist-packages/torch/nn/modules/rnn.py:67: UserWarning: dropout option adds dropout after all but last recurrent layer, so non-zero dropout expects num_layers greater than 1, but got dropout=0.015492901227043061 and num_layers=1\n",
            "  warnings.warn(\"dropout option adds dropout after all but last \"\n"
          ]
        },
        {
          "output_type": "stream",
          "name": "stdout",
          "text": [
            "Using cuda\n"
          ]
        },
        {
          "output_type": "stream",
          "name": "stderr",
          "text": [
            "\u001b[32m[I 2023-01-16 16:52:23,453]\u001b[0m Trial 55 finished with value: 0.6684850454330444 and parameters: {'learning_rate': 0.0021666679679993896, 'cell_type': 'LSTM', 'hidden_size': 43, 'num_layers': 6, 'dropout': 0.015492901227043061}. Best is trial 19 with value: 0.8760026097297668.\u001b[0m\n",
            "/usr/local/lib/python3.8/dist-packages/torch/nn/modules/rnn.py:67: UserWarning: dropout option adds dropout after all but last recurrent layer, so non-zero dropout expects num_layers greater than 1, but got dropout=0.026931123959648095 and num_layers=1\n",
            "  warnings.warn(\"dropout option adds dropout after all but last \"\n"
          ]
        },
        {
          "output_type": "stream",
          "name": "stdout",
          "text": [
            "Using cuda\n"
          ]
        },
        {
          "output_type": "stream",
          "name": "stderr",
          "text": [
            "\u001b[32m[I 2023-01-16 16:57:36,547]\u001b[0m Trial 56 finished with value: 0.7909101843833923 and parameters: {'learning_rate': 0.0005981195310258802, 'cell_type': 'LSTM', 'hidden_size': 33, 'num_layers': 9, 'dropout': 0.026931123959648095}. Best is trial 19 with value: 0.8760026097297668.\u001b[0m\n",
            "/usr/local/lib/python3.8/dist-packages/torch/nn/modules/rnn.py:67: UserWarning: dropout option adds dropout after all but last recurrent layer, so non-zero dropout expects num_layers greater than 1, but got dropout=0.017117783142819754 and num_layers=1\n",
            "  warnings.warn(\"dropout option adds dropout after all but last \"\n"
          ]
        },
        {
          "output_type": "stream",
          "name": "stdout",
          "text": [
            "Using cuda\n"
          ]
        },
        {
          "output_type": "stream",
          "name": "stderr",
          "text": [
            "\u001b[32m[I 2023-01-16 17:00:57,473]\u001b[0m Trial 57 finished with value: 0.8741906881332397 and parameters: {'learning_rate': 0.0012216264960480104, 'cell_type': 'GRU', 'hidden_size': 26, 'num_layers': 8, 'dropout': 0.017117783142819754}. Best is trial 19 with value: 0.8760026097297668.\u001b[0m\n",
            "/usr/local/lib/python3.8/dist-packages/torch/nn/modules/rnn.py:67: UserWarning: dropout option adds dropout after all but last recurrent layer, so non-zero dropout expects num_layers greater than 1, but got dropout=0.012555616280569002 and num_layers=1\n",
            "  warnings.warn(\"dropout option adds dropout after all but last \"\n"
          ]
        },
        {
          "output_type": "stream",
          "name": "stdout",
          "text": [
            "Using cuda\n"
          ]
        },
        {
          "output_type": "stream",
          "name": "stderr",
          "text": [
            "\u001b[32m[I 2023-01-16 17:04:41,038]\u001b[0m Trial 58 finished with value: 0.87565678358078 and parameters: {'learning_rate': 0.003483244756893491, 'cell_type': 'GRU', 'hidden_size': 21, 'num_layers': 10, 'dropout': 0.012555616280569002}. Best is trial 19 with value: 0.8760026097297668.\u001b[0m\n",
            "/usr/local/lib/python3.8/dist-packages/torch/nn/modules/rnn.py:67: UserWarning: dropout option adds dropout after all but last recurrent layer, so non-zero dropout expects num_layers greater than 1, but got dropout=0.012516140755577627 and num_layers=1\n",
            "  warnings.warn(\"dropout option adds dropout after all but last \"\n"
          ]
        },
        {
          "output_type": "stream",
          "name": "stdout",
          "text": [
            "Using cuda\n"
          ]
        },
        {
          "output_type": "stream",
          "name": "stderr",
          "text": [
            "\u001b[32m[I 2023-01-16 17:08:16,926]\u001b[0m Trial 59 finished with value: 0.8659200668334961 and parameters: {'learning_rate': 0.003880570964842398, 'cell_type': 'GRU', 'hidden_size': 18, 'num_layers': 10, 'dropout': 0.012516140755577627}. Best is trial 19 with value: 0.8760026097297668.\u001b[0m\n",
            "/usr/local/lib/python3.8/dist-packages/torch/nn/modules/rnn.py:67: UserWarning: dropout option adds dropout after all but last recurrent layer, so non-zero dropout expects num_layers greater than 1, but got dropout=0.01416374158624287 and num_layers=1\n",
            "  warnings.warn(\"dropout option adds dropout after all but last \"\n"
          ]
        },
        {
          "output_type": "stream",
          "name": "stdout",
          "text": [
            "Using cuda\n"
          ]
        },
        {
          "output_type": "stream",
          "name": "stderr",
          "text": [
            "\u001b[32m[I 2023-01-16 17:12:06,605]\u001b[0m Trial 60 finished with value: 0.6684850454330444 and parameters: {'learning_rate': 0.009118592357245511, 'cell_type': 'GRU', 'hidden_size': 22, 'num_layers': 10, 'dropout': 0.01416374158624287}. Best is trial 19 with value: 0.8760026097297668.\u001b[0m\n",
            "/usr/local/lib/python3.8/dist-packages/torch/nn/modules/rnn.py:67: UserWarning: dropout option adds dropout after all but last recurrent layer, so non-zero dropout expects num_layers greater than 1, but got dropout=0.011527483525836183 and num_layers=1\n",
            "  warnings.warn(\"dropout option adds dropout after all but last \"\n"
          ]
        },
        {
          "output_type": "stream",
          "name": "stdout",
          "text": [
            "Using cuda\n"
          ]
        },
        {
          "output_type": "stream",
          "name": "stderr",
          "text": [
            "\u001b[32m[I 2023-01-16 17:15:04,259]\u001b[0m Trial 61 finished with value: 0.8638014197349548 and parameters: {'learning_rate': 0.007156758151815981, 'cell_type': 'GRU', 'hidden_size': 18, 'num_layers': 8, 'dropout': 0.011527483525836183}. Best is trial 19 with value: 0.8760026097297668.\u001b[0m\n",
            "/usr/local/lib/python3.8/dist-packages/torch/nn/modules/rnn.py:67: UserWarning: dropout option adds dropout after all but last recurrent layer, so non-zero dropout expects num_layers greater than 1, but got dropout=0.015886604880097417 and num_layers=1\n",
            "  warnings.warn(\"dropout option adds dropout after all but last \"\n"
          ]
        },
        {
          "output_type": "stream",
          "name": "stdout",
          "text": [
            "Using cuda\n"
          ]
        },
        {
          "output_type": "stream",
          "name": "stderr",
          "text": [
            "\u001b[32m[I 2023-01-16 17:18:44,647]\u001b[0m Trial 62 finished with value: 0.8708820939064026 and parameters: {'learning_rate': 0.002688200962167131, 'cell_type': 'GRU', 'hidden_size': 25, 'num_layers': 9, 'dropout': 0.015886604880097417}. Best is trial 19 with value: 0.8760026097297668.\u001b[0m\n",
            "/usr/local/lib/python3.8/dist-packages/torch/nn/modules/rnn.py:67: UserWarning: dropout option adds dropout after all but last recurrent layer, so non-zero dropout expects num_layers greater than 1, but got dropout=0.01389060738979051 and num_layers=1\n",
            "  warnings.warn(\"dropout option adds dropout after all but last \"\n"
          ]
        },
        {
          "output_type": "stream",
          "name": "stdout",
          "text": [
            "Using cuda\n"
          ]
        },
        {
          "output_type": "stream",
          "name": "stderr",
          "text": [
            "\u001b[32m[I 2023-01-16 17:22:26,552]\u001b[0m Trial 63 finished with value: 0.8652634620666504 and parameters: {'learning_rate': 0.004380913850096224, 'cell_type': 'GRU', 'hidden_size': 26, 'num_layers': 9, 'dropout': 0.01389060738979051}. Best is trial 19 with value: 0.8760026097297668.\u001b[0m\n",
            "/usr/local/lib/python3.8/dist-packages/torch/nn/modules/rnn.py:67: UserWarning: dropout option adds dropout after all but last recurrent layer, so non-zero dropout expects num_layers greater than 1, but got dropout=0.010823022964060706 and num_layers=1\n",
            "  warnings.warn(\"dropout option adds dropout after all but last \"\n"
          ]
        },
        {
          "output_type": "stream",
          "name": "stdout",
          "text": [
            "Using cuda\n"
          ]
        },
        {
          "output_type": "stream",
          "name": "stderr",
          "text": [
            "\u001b[32m[I 2023-01-16 17:25:54,746]\u001b[0m Trial 64 finished with value: 0.8722660541534424 and parameters: {'learning_rate': 0.00043787571720913405, 'cell_type': 'GRU', 'hidden_size': 29, 'num_layers': 8, 'dropout': 0.010823022964060706}. Best is trial 19 with value: 0.8760026097297668.\u001b[0m\n",
            "/usr/local/lib/python3.8/dist-packages/torch/nn/modules/rnn.py:67: UserWarning: dropout option adds dropout after all but last recurrent layer, so non-zero dropout expects num_layers greater than 1, but got dropout=0.01933549407742635 and num_layers=1\n",
            "  warnings.warn(\"dropout option adds dropout after all but last \"\n"
          ]
        },
        {
          "output_type": "stream",
          "name": "stdout",
          "text": [
            "Using cuda\n"
          ]
        },
        {
          "output_type": "stream",
          "name": "stderr",
          "text": [
            "\u001b[32m[I 2023-01-16 17:28:56,274]\u001b[0m Trial 65 finished with value: 0.872481107711792 and parameters: {'learning_rate': 0.00019991023394797392, 'cell_type': 'GRU', 'hidden_size': 20, 'num_layers': 8, 'dropout': 0.01933549407742635}. Best is trial 19 with value: 0.8760026097297668.\u001b[0m\n",
            "/usr/local/lib/python3.8/dist-packages/torch/nn/modules/rnn.py:67: UserWarning: dropout option adds dropout after all but last recurrent layer, so non-zero dropout expects num_layers greater than 1, but got dropout=0.012931142452810376 and num_layers=1\n",
            "  warnings.warn(\"dropout option adds dropout after all but last \"\n"
          ]
        },
        {
          "output_type": "stream",
          "name": "stdout",
          "text": [
            "Using cuda\n"
          ]
        },
        {
          "output_type": "stream",
          "name": "stderr",
          "text": [
            "\u001b[32m[I 2023-01-16 17:31:27,460]\u001b[0m Trial 66 finished with value: 0.8712527751922607 and parameters: {'learning_rate': 0.0007462819869476637, 'cell_type': 'GRU', 'hidden_size': 24, 'num_layers': 6, 'dropout': 0.012931142452810376}. Best is trial 19 with value: 0.8760026097297668.\u001b[0m\n",
            "/usr/local/lib/python3.8/dist-packages/torch/nn/modules/rnn.py:67: UserWarning: dropout option adds dropout after all but last recurrent layer, so non-zero dropout expects num_layers greater than 1, but got dropout=0.012108995094483923 and num_layers=1\n",
            "  warnings.warn(\"dropout option adds dropout after all but last \"\n"
          ]
        },
        {
          "output_type": "stream",
          "name": "stdout",
          "text": [
            "Using cuda\n"
          ]
        },
        {
          "output_type": "stream",
          "name": "stderr",
          "text": [
            "\u001b[32m[I 2023-01-16 17:34:35,712]\u001b[0m Trial 67 finished with value: 0.8715406656265259 and parameters: {'learning_rate': 0.00024787784122405, 'cell_type': 'GRU', 'hidden_size': 30, 'num_layers': 7, 'dropout': 0.012108995094483923}. Best is trial 19 with value: 0.8760026097297668.\u001b[0m\n",
            "/usr/local/lib/python3.8/dist-packages/torch/nn/modules/rnn.py:67: UserWarning: dropout option adds dropout after all but last recurrent layer, so non-zero dropout expects num_layers greater than 1, but got dropout=0.01772040564181809 and num_layers=1\n",
            "  warnings.warn(\"dropout option adds dropout after all but last \"\n"
          ]
        },
        {
          "output_type": "stream",
          "name": "stdout",
          "text": [
            "Using cuda\n"
          ]
        },
        {
          "output_type": "stream",
          "name": "stderr",
          "text": [
            "\u001b[32m[I 2023-01-16 17:36:54,417]\u001b[0m Trial 68 finished with value: 0.8694890737533569 and parameters: {'learning_rate': 0.0003260176797484518, 'cell_type': 'GRU', 'hidden_size': 27, 'num_layers': 5, 'dropout': 0.01772040564181809}. Best is trial 19 with value: 0.8760026097297668.\u001b[0m\n",
            "/usr/local/lib/python3.8/dist-packages/torch/nn/modules/rnn.py:67: UserWarning: dropout option adds dropout after all but last recurrent layer, so non-zero dropout expects num_layers greater than 1, but got dropout=0.020783967392176295 and num_layers=1\n",
            "  warnings.warn(\"dropout option adds dropout after all but last \"\n"
          ]
        },
        {
          "output_type": "stream",
          "name": "stdout",
          "text": [
            "Using cuda\n"
          ]
        },
        {
          "output_type": "stream",
          "name": "stderr",
          "text": [
            "\u001b[32m[I 2023-01-16 17:38:26,025]\u001b[0m Trial 69 finished with value: 0.8736138939857483 and parameters: {'learning_rate': 0.005900938118502384, 'cell_type': 'GRU', 'hidden_size': 22, 'num_layers': 3, 'dropout': 0.020783967392176295}. Best is trial 19 with value: 0.8760026097297668.\u001b[0m\n"
          ]
        }
      ],
      "source": [
        "study = optuna.create_study(direction = \"maximize\", sampler = optuna.samplers.TPESampler())\n",
        "study.optimize(objective, n_trials = 70)"
      ]
    },
    {
      "cell_type": "markdown",
      "source": [
        "After running optuna for 70 trials, the model which produced the highest f1 score on the test set was the following:\n",
        "\n",
        "```\n",
        "parameters = {\n",
        "    'learning_rate': 0.0005448990796029992,\n",
        "    'cell_type': 'GRU',\n",
        "    'input_size': 300,\n",
        "    'hidden_size': 35,\n",
        "    'num_layers': 7,\n",
        "    'dropout': 0.015853786329403766,\n",
        "    'skip_connections' : True\n",
        "}\n",
        "```"
      ],
      "metadata": {
        "id": "EGimlsFfCm3U"
      }
    },
    {
      "cell_type": "markdown",
      "source": [
        "####Plotting Learning Curve & ROC Curve for the produced model"
      ],
      "metadata": {
        "id": "njrbzIcIQB5K"
      }
    },
    {
      "cell_type": "code",
      "execution_count": null,
      "metadata": {
        "colab": {
          "base_uri": "https://localhost:8080/"
        },
        "outputId": "686a4fd7-cfa7-4097-c8c8-acc932016fcb",
        "id": "BLoffRyeP3Xv"
      },
      "outputs": [
        {
          "output_type": "stream",
          "name": "stderr",
          "text": [
            "/usr/local/lib/python3.8/dist-packages/torch/nn/modules/rnn.py:67: UserWarning: dropout option adds dropout after all but last recurrent layer, so non-zero dropout expects num_layers greater than 1, but got dropout=0.02051594089032721 and num_layers=1\n",
            "  warnings.warn(\"dropout option adds dropout after all but last \"\n",
            "<ipython-input-9-5f83bf2eb6bd>:69: UserWarning: Implicit dimension choice for softmax has been deprecated. Change the call to include dim=X as an argument.\n",
            "  weight_vector = softmax(torch.matmul(out[i,0:-2,:],out[i,-1,:]))        #Compute weight vector\n"
          ]
        },
        {
          "output_type": "stream",
          "name": "stdout",
          "text": [
            "RNN(\n",
            "  (embedding): Embedding(400000, 300)\n",
            "  (rnn_layers): ModuleList(\n",
            "    (0): LSTM(300, 57, batch_first=True, dropout=0.02051594089032721, bidirectional=True)\n",
            "    (1): LSTM(114, 57, batch_first=True, dropout=0.02051594089032721, bidirectional=True)\n",
            "    (2): LSTM(114, 57, batch_first=True, dropout=0.02051594089032721, bidirectional=True)\n",
            "  )\n",
            "  (out): Linear(in_features=228, out_features=1, bias=True)\n",
            "  (sigmoid): Sigmoid()\n",
            ")\n",
            "Using cuda\n"
          ]
        }
      ],
      "source": [
        "parameters = {\n",
        "    'lr': 0.0005448990796029992,\n",
        "    'cell_type': 'GRU',\n",
        "    'input_size': 300,\n",
        "    'hidden_size': 35,\n",
        "    'num_layers': 7,\n",
        "    'dropout': 0.015853786329403766,\n",
        "    'skip_connections' : True,\n",
        "    'attention' : True\n",
        "}\n",
        "\n",
        "\n",
        "net = RNN(parameters,vec)\n",
        "print(net)\n",
        "\n",
        "EPOCH = 15\n",
        "trained_model, avg_losses, epoch_sizes, val_scores, train_scores = Train_Network(train_dataloader,validation_dataloader,EPOCH, parameters['lr'], net,info = True)"
      ]
    },
    {
      "cell_type": "code",
      "execution_count": null,
      "metadata": {
        "colab": {
          "base_uri": "https://localhost:8080/"
        },
        "outputId": "325dc348-e51c-43e1-b0b4-63f06e97161f",
        "id": "8WE5KIYSP6G-"
      },
      "outputs": [
        {
          "output_type": "stream",
          "name": "stderr",
          "text": [
            "<ipython-input-9-5f83bf2eb6bd>:69: UserWarning: Implicit dimension choice for softmax has been deprecated. Change the call to include dim=X as an argument.\n",
            "  weight_vector = softmax(torch.matmul(out[i,0:-2,:],out[i,-1,:]))        #Compute weight vector\n"
          ]
        },
        {
          "output_type": "stream",
          "name": "stdout",
          "text": [
            "Precision:  0.8338043689727783\n",
            "Recall:  0.8906471133232117\n",
            "f1 measure:  0.8595342040061951\n"
          ]
        }
      ],
      "source": [
        "precision, recall, f1 = Test_Network(test_dataloader,trained_model)\n",
        "print(\"Precision: \",precision.item())\n",
        "print(\"Recall: \",recall.item())\n",
        "print(\"f1 measure: \",f1.item())\n",
        "\n",
        "y_predicted = make_prediction(test_dataloader,trained_model)\n",
        "y_actual = np.asarray(test_dataset.getLabels())"
      ]
    },
    {
      "cell_type": "code",
      "execution_count": null,
      "metadata": {
        "colab": {
          "base_uri": "https://localhost:8080/",
          "height": 638
        },
        "outputId": "3c255cc5-936b-4100-8e1a-6b5bc287cf3c",
        "id": "kudtdvKyP9zU"
      },
      "outputs": [
        {
          "output_type": "execute_result",
          "data": {
            "text/plain": [
              "<matplotlib.legend.Legend at 0x7f1ad35447c0>"
            ]
          },
          "metadata": {},
          "execution_count": 16
        },
        {
          "output_type": "display_data",
          "data": {
            "text/plain": [
              "<Figure size 1440x720 with 2 Axes>"
            ],
            "image/png": "[encoded data removed]"
          },
          "metadata": {
            "needs_background": "light"
          }
        }
      ],
      "source": [
        "import matplotlib.pyplot as plt\n",
        "from sklearn.metrics import roc_curve, auc\n",
        "\n",
        "\n",
        "\n",
        "fp,tp,_ = roc_curve(y_actual, y_predicted)\n",
        "roc_auc = auc(fp,tp)\n",
        "\n",
        "_, axes = plt.subplots(1,2,figsize=(20,10))\n",
        "axes[0].set_title(\"Learning Curve\")\n",
        "axes[0].set_xlabel(\"Epochs\")\n",
        "axes[0].set_ylabel(\"F1 Score\")\n",
        "axes[0].grid()\n",
        "\n",
        "axes[0].plot(epoch_sizes, train_scores, color=\"r\", label=\"Training Score\")\n",
        "axes[0].plot(epoch_sizes, val_scores, color=\"g\", label=\"Validation Score\")\n",
        "axes[0].legend(loc=\"best\")\n",
        "\n",
        "axes[1].set_title(\"ROC Curve\")\n",
        "axes[1].set_xlabel(\"False Positive Rate\")\n",
        "axes[1].set_ylabel(\"True Positive Rate\")\n",
        "axes[1].grid()\n",
        "axes[1].plot(fp, tp, label='ROC curve (area = %0.2f)' % roc_auc)\n",
        "axes[1].legend(loc = \"best\")\n"
      ]
    },
    {
      "cell_type": "code",
      "source": [
        "def objective_using_attention(trial):\n",
        "\n",
        "    parameters = {\n",
        "        'lr': trial.suggest_loguniform('learning_rate',1e-4,1e-2),\n",
        "        'cell_type': trial.suggest_categorical(\"cell_type\",[\"LSTM\",\"GRU\"]),\n",
        "        'input_size': 300,\n",
        "        'hidden_size': trial.suggest_int(\"hidden_size\",16,64),\n",
        "        'num_layers': trial.suggest_int(\"num_layers\",1,10),\n",
        "        'dropout': trial.suggest_loguniform(\"dropout\",0.01,0.08),\n",
        "        'skip_connections': trial.suggest_categorical(\"skip_connections\",[True,False]),\n",
        "        'attention': True\n",
        "    }\n",
        "    EPOCH = 15\n",
        "\n",
        "\n",
        "    model= RNN(parameters,vec)\n",
        "\n",
        "    _,f1_measure = Train_Network(train_dataloader,validation_dataloader,EPOCH,parameters['lr'],model)\n",
        "\n",
        "    return f1_measure"
      ],
      "metadata": {
        "id": "rDsUD9SFyT_i"
      },
      "execution_count": null,
      "outputs": []
    },
    {
      "cell_type": "markdown",
      "source": [
        "###Searching for the best model: Using Attention"
      ],
      "metadata": {
        "id": "X3SDVBvzDwa7"
      }
    },
    {
      "cell_type": "markdown",
      "source": [
        "####Optuna Results:"
      ],
      "metadata": {
        "id": "CX7G1O7rN6QM"
      }
    },
    {
      "cell_type": "code",
      "source": [
        "study = optuna.create_study(direction = \"maximize\", sampler = optuna.samplers.TPESampler())\n",
        "study.optimize(objective_using_attention, n_trials = 50)"
      ],
      "metadata": {
        "colab": {
          "base_uri": "https://localhost:8080/"
        },
        "id": "ET3gj7xxyXm_",
        "outputId": "d169a241-17d1-473a-dee2-de89af3692f3"
      },
      "execution_count": null,
      "outputs": [
        {
          "metadata": {
            "tags": null
          },
          "name": "stderr",
          "output_type": "stream",
          "text": [
            "\u001b[32m[I 2023-01-18 01:19:19,733]\u001b[0m A new study created in memory with name: no-name-d6f0b69f-9767-45f2-8c35-3a4a72fce995\u001b[0m\n",
            "<ipython-input-15-03f65665c7c2>:4: FutureWarning: suggest_loguniform has been deprecated in v3.0.0. This feature will be removed in v6.0.0. See https://github.com/optuna/optuna/releases/tag/v3.0.0. Use :func:`~optuna.trial.Trial.suggest_float` instead.\n",
            "  'lr': trial.suggest_loguniform('learning_rate',1e-4,1e-2),\n",
            "<ipython-input-15-03f65665c7c2>:9: FutureWarning: suggest_loguniform has been deprecated in v3.0.0. This feature will be removed in v6.0.0. See https://github.com/optuna/optuna/releases/tag/v3.0.0. Use :func:`~optuna.trial.Trial.suggest_float` instead.\n",
            "  'dropout': trial.suggest_loguniform(\"dropout\",0.01,0.08),\n",
            "/usr/local/lib/python3.8/dist-packages/torch/nn/modules/rnn.py:67: UserWarning: dropout option adds dropout after all but last recurrent layer, so non-zero dropout expects num_layers greater than 1, but got dropout=0.022555079935109853 and num_layers=1\n",
            "  warnings.warn(\"dropout option adds dropout after all but last \"\n"
          ]
        },
        {
          "metadata": {
            "tags": null
          },
          "name": "stdout",
          "output_type": "stream",
          "text": [
            "Using cuda\n"
          ]
        },
        {
          "metadata": {
            "tags": null
          },
          "name": "stderr",
          "output_type": "stream",
          "text": [
            "<ipython-input-9-5f83bf2eb6bd>:69: UserWarning: Implicit dimension choice for softmax has been deprecated. Change the call to include dim=X as an argument.\n",
            "  weight_vector = softmax(torch.matmul(out[i,0:-2,:],out[i,-1,:]))        #Compute weight vector\n",
            "\u001b[32m[I 2023-01-18 01:24:53,545]\u001b[0m Trial 0 finished with value: 0.8774313926696777 and parameters: {'learning_rate': 0.006972070030461936, 'cell_type': 'GRU', 'hidden_size': 21, 'num_layers': 3, 'dropout': 0.022555079935109853, 'skip_connections': False}. Best is trial 0 with value: 0.8774313926696777.\u001b[0m\n",
            "/usr/local/lib/python3.8/dist-packages/torch/nn/modules/rnn.py:67: UserWarning: dropout option adds dropout after all but last recurrent layer, so non-zero dropout expects num_layers greater than 1, but got dropout=0.02793827916260979 and num_layers=1\n",
            "  warnings.warn(\"dropout option adds dropout after all but last \"\n"
          ]
        },
        {
          "metadata": {
            "tags": null
          },
          "name": "stdout",
          "output_type": "stream",
          "text": [
            "Using cuda\n"
          ]
        },
        {
          "metadata": {
            "tags": null
          },
          "name": "stderr",
          "output_type": "stream",
          "text": [
            "\u001b[32m[I 2023-01-18 01:30:14,107]\u001b[0m Trial 1 finished with value: 0.8601567149162292 and parameters: {'learning_rate': 0.00011600020640934742, 'cell_type': 'LSTM', 'hidden_size': 21, 'num_layers': 3, 'dropout': 0.02793827916260979, 'skip_connections': True}. Best is trial 0 with value: 0.8774313926696777.\u001b[0m\n",
            "/usr/local/lib/python3.8/dist-packages/torch/nn/modules/rnn.py:67: UserWarning: dropout option adds dropout after all but last recurrent layer, so non-zero dropout expects num_layers greater than 1, but got dropout=0.020086317463277742 and num_layers=1\n",
            "  warnings.warn(\"dropout option adds dropout after all but last \"\n"
          ]
        },
        {
          "metadata": {
            "tags": null
          },
          "name": "stdout",
          "output_type": "stream",
          "text": [
            "Using cuda\n"
          ]
        },
        {
          "metadata": {
            "tags": null
          },
          "name": "stderr",
          "output_type": "stream",
          "text": [
            "\u001b[32m[I 2023-01-18 01:35:40,534]\u001b[0m Trial 2 finished with value: 0.8821703195571899 and parameters: {'learning_rate': 0.002555562286057283, 'cell_type': 'LSTM', 'hidden_size': 24, 'num_layers': 3, 'dropout': 0.020086317463277742, 'skip_connections': False}. Best is trial 2 with value: 0.8821703195571899.\u001b[0m\n",
            "/usr/local/lib/python3.8/dist-packages/torch/nn/modules/rnn.py:67: UserWarning: dropout option adds dropout after all but last recurrent layer, so non-zero dropout expects num_layers greater than 1, but got dropout=0.014841164029774784 and num_layers=1\n",
            "  warnings.warn(\"dropout option adds dropout after all but last \"\n"
          ]
        },
        {
          "metadata": {
            "tags": null
          },
          "name": "stdout",
          "output_type": "stream",
          "text": [
            "Using cuda\n"
          ]
        },
        {
          "metadata": {
            "tags": null
          },
          "name": "stderr",
          "output_type": "stream",
          "text": [
            "\u001b[32m[I 2023-01-18 01:44:42,988]\u001b[0m Trial 3 finished with value: 0.8820549845695496 and parameters: {'learning_rate': 0.000332459912615078, 'cell_type': 'GRU', 'hidden_size': 60, 'num_layers': 3, 'dropout': 0.014841164029774784, 'skip_connections': False}. Best is trial 2 with value: 0.8821703195571899.\u001b[0m\n",
            "/usr/local/lib/python3.8/dist-packages/torch/nn/modules/rnn.py:67: UserWarning: dropout option adds dropout after all but last recurrent layer, so non-zero dropout expects num_layers greater than 1, but got dropout=0.0146051285042776 and num_layers=1\n",
            "  warnings.warn(\"dropout option adds dropout after all but last \"\n"
          ]
        },
        {
          "metadata": {
            "tags": null
          },
          "name": "stdout",
          "output_type": "stream",
          "text": [
            "Using cuda\n"
          ]
        },
        {
          "metadata": {
            "tags": null
          },
          "name": "stderr",
          "output_type": "stream",
          "text": [
            "\u001b[32m[I 2023-01-18 01:49:45,399]\u001b[0m Trial 4 finished with value: 0.8686731457710266 and parameters: {'learning_rate': 0.00015086718131912544, 'cell_type': 'GRU', 'hidden_size': 19, 'num_layers': 2, 'dropout': 0.0146051285042776, 'skip_connections': True}. Best is trial 2 with value: 0.8821703195571899.\u001b[0m\n",
            "/usr/local/lib/python3.8/dist-packages/torch/nn/modules/rnn.py:67: UserWarning: dropout option adds dropout after all but last recurrent layer, so non-zero dropout expects num_layers greater than 1, but got dropout=0.02051594089032721 and num_layers=1\n",
            "  warnings.warn(\"dropout option adds dropout after all but last \"\n"
          ]
        },
        {
          "metadata": {
            "tags": null
          },
          "name": "stdout",
          "output_type": "stream",
          "text": [
            "Using cuda\n"
          ]
        },
        {
          "metadata": {
            "tags": null
          },
          "name": "stderr",
          "output_type": "stream",
          "text": [
            "\u001b[32m[I 2023-01-18 01:58:33,143]\u001b[0m Trial 5 finished with value: 0.883770227432251 and parameters: {'learning_rate': 0.0008597490589482921, 'cell_type': 'LSTM', 'hidden_size': 57, 'num_layers': 3, 'dropout': 0.02051594089032721, 'skip_connections': False}. Best is trial 5 with value: 0.883770227432251.\u001b[0m\n",
            "/usr/local/lib/python3.8/dist-packages/torch/nn/modules/rnn.py:67: UserWarning: dropout option adds dropout after all but last recurrent layer, so non-zero dropout expects num_layers greater than 1, but got dropout=0.019873999051957945 and num_layers=1\n",
            "  warnings.warn(\"dropout option adds dropout after all but last \"\n"
          ]
        },
        {
          "metadata": {
            "tags": null
          },
          "name": "stdout",
          "output_type": "stream",
          "text": [
            "Using cuda\n"
          ]
        },
        {
          "metadata": {
            "tags": null
          },
          "name": "stderr",
          "output_type": "stream",
          "text": [
            "\u001b[32m[I 2023-01-18 02:08:33,826]\u001b[0m Trial 6 finished with value: 0.8697522282600403 and parameters: {'learning_rate': 0.007556848437982313, 'cell_type': 'GRU', 'hidden_size': 54, 'num_layers': 6, 'dropout': 0.019873999051957945, 'skip_connections': True}. Best is trial 5 with value: 0.883770227432251.\u001b[0m\n",
            "/usr/local/lib/python3.8/dist-packages/torch/nn/modules/rnn.py:67: UserWarning: dropout option adds dropout after all but last recurrent layer, so non-zero dropout expects num_layers greater than 1, but got dropout=0.030957846525667816 and num_layers=1\n",
            "  warnings.warn(\"dropout option adds dropout after all but last \"\n"
          ]
        },
        {
          "metadata": {
            "tags": null
          },
          "name": "stdout",
          "output_type": "stream",
          "text": [
            "Using cuda\n"
          ]
        },
        {
          "metadata": {
            "tags": null
          },
          "name": "stderr",
          "output_type": "stream",
          "text": [
            "\u001b[32m[I 2023-01-18 02:19:08,185]\u001b[0m Trial 7 finished with value: 0.8792474865913391 and parameters: {'learning_rate': 0.00029517559104624234, 'cell_type': 'GRU', 'hidden_size': 59, 'num_layers': 6, 'dropout': 0.030957846525667816, 'skip_connections': False}. Best is trial 5 with value: 0.883770227432251.\u001b[0m\n",
            "/usr/local/lib/python3.8/dist-packages/torch/nn/modules/rnn.py:67: UserWarning: dropout option adds dropout after all but last recurrent layer, so non-zero dropout expects num_layers greater than 1, but got dropout=0.0660112842302449 and num_layers=1\n",
            "  warnings.warn(\"dropout option adds dropout after all but last \"\n"
          ]
        },
        {
          "metadata": {
            "tags": null
          },
          "name": "stdout",
          "output_type": "stream",
          "text": [
            "Using cuda\n"
          ]
        },
        {
          "metadata": {
            "tags": null
          },
          "name": "stderr",
          "output_type": "stream",
          "text": [
            "\u001b[32m[I 2023-01-18 02:32:37,259]\u001b[0m Trial 8 finished with value: 0.8766087293624878 and parameters: {'learning_rate': 0.00012224797544645565, 'cell_type': 'GRU', 'hidden_size': 62, 'num_layers': 10, 'dropout': 0.0660112842302449, 'skip_connections': False}. Best is trial 5 with value: 0.883770227432251.\u001b[0m\n",
            "/usr/local/lib/python3.8/dist-packages/torch/nn/modules/rnn.py:67: UserWarning: dropout option adds dropout after all but last recurrent layer, so non-zero dropout expects num_layers greater than 1, but got dropout=0.011983359612956474 and num_layers=1\n",
            "  warnings.warn(\"dropout option adds dropout after all but last \"\n"
          ]
        },
        {
          "metadata": {
            "tags": null
          },
          "name": "stdout",
          "output_type": "stream",
          "text": [
            "Using cuda\n"
          ]
        },
        {
          "metadata": {
            "tags": null
          },
          "name": "stderr",
          "output_type": "stream",
          "text": [
            "\u001b[32m[I 2023-01-18 02:38:55,013]\u001b[0m Trial 9 finished with value: 0.8792362213134766 and parameters: {'learning_rate': 0.0008325571692510869, 'cell_type': 'GRU', 'hidden_size': 28, 'num_layers': 5, 'dropout': 0.011983359612956474, 'skip_connections': True}. Best is trial 5 with value: 0.883770227432251.\u001b[0m\n",
            "/usr/local/lib/python3.8/dist-packages/torch/nn/modules/rnn.py:67: UserWarning: dropout option adds dropout after all but last recurrent layer, so non-zero dropout expects num_layers greater than 1, but got dropout=0.04615717840899366 and num_layers=1\n",
            "  warnings.warn(\"dropout option adds dropout after all but last \"\n"
          ]
        },
        {
          "metadata": {
            "tags": null
          },
          "name": "stdout",
          "output_type": "stream",
          "text": [
            "Using cuda\n"
          ]
        },
        {
          "metadata": {
            "tags": null
          },
          "name": "stderr",
          "output_type": "stream",
          "text": [
            "\u001b[32m[I 2023-01-18 02:49:12,806]\u001b[0m Trial 10 finished with value: 0.6608508825302124 and parameters: {'learning_rate': 0.0012076937379294419, 'cell_type': 'LSTM', 'hidden_size': 45, 'num_layers': 9, 'dropout': 0.04615717840899366, 'skip_connections': False}. Best is trial 5 with value: 0.883770227432251.\u001b[0m\n",
            "/usr/local/lib/python3.8/dist-packages/torch/nn/modules/rnn.py:67: UserWarning: dropout option adds dropout after all but last recurrent layer, so non-zero dropout expects num_layers greater than 1, but got dropout=0.036532816926773785 and num_layers=1\n",
            "  warnings.warn(\"dropout option adds dropout after all but last \"\n"
          ]
        },
        {
          "metadata": {
            "tags": null
          },
          "name": "stdout",
          "output_type": "stream",
          "text": [
            "Using cuda\n"
          ]
        },
        {
          "metadata": {
            "tags": null
          },
          "name": "stderr",
          "output_type": "stream",
          "text": [
            "\u001b[32m[I 2023-01-18 02:54:55,370]\u001b[0m Trial 11 finished with value: 0.8749386668205261 and parameters: {'learning_rate': 0.0019744081146915353, 'cell_type': 'LSTM', 'hidden_size': 35, 'num_layers': 1, 'dropout': 0.036532816926773785, 'skip_connections': False}. Best is trial 5 with value: 0.883770227432251.\u001b[0m\n",
            "/usr/local/lib/python3.8/dist-packages/torch/nn/modules/rnn.py:67: UserWarning: dropout option adds dropout after all but last recurrent layer, so non-zero dropout expects num_layers greater than 1, but got dropout=0.019598459177600235 and num_layers=1\n",
            "  warnings.warn(\"dropout option adds dropout after all but last \"\n"
          ]
        },
        {
          "metadata": {
            "tags": null
          },
          "name": "stdout",
          "output_type": "stream",
          "text": [
            "Using cuda\n"
          ]
        },
        {
          "metadata": {
            "tags": null
          },
          "name": "stderr",
          "output_type": "stream",
          "text": [
            "\u001b[32m[I 2023-01-18 03:03:16,982]\u001b[0m Trial 12 finished with value: 0.8793131709098816 and parameters: {'learning_rate': 0.0027841765390345693, 'cell_type': 'LSTM', 'hidden_size': 46, 'num_layers': 5, 'dropout': 0.019598459177600235, 'skip_connections': False}. Best is trial 5 with value: 0.883770227432251.\u001b[0m\n",
            "/usr/local/lib/python3.8/dist-packages/torch/nn/modules/rnn.py:67: UserWarning: dropout option adds dropout after all but last recurrent layer, so non-zero dropout expects num_layers greater than 1, but got dropout=0.015993356742385428 and num_layers=1\n",
            "  warnings.warn(\"dropout option adds dropout after all but last \"\n"
          ]
        },
        {
          "metadata": {
            "tags": null
          },
          "name": "stdout",
          "output_type": "stream",
          "text": [
            "Using cuda\n"
          ]
        },
        {
          "metadata": {
            "tags": null
          },
          "name": "stderr",
          "output_type": "stream",
          "text": [
            "\u001b[32m[I 2023-01-18 03:10:01,808]\u001b[0m Trial 13 finished with value: 0.8760656118392944 and parameters: {'learning_rate': 0.0031649504662040677, 'cell_type': 'LSTM', 'hidden_size': 35, 'num_layers': 4, 'dropout': 0.015993356742385428, 'skip_connections': False}. Best is trial 5 with value: 0.883770227432251.\u001b[0m\n",
            "/usr/local/lib/python3.8/dist-packages/torch/nn/modules/rnn.py:67: UserWarning: dropout option adds dropout after all but last recurrent layer, so non-zero dropout expects num_layers greater than 1, but got dropout=0.02567585814313459 and num_layers=1\n",
            "  warnings.warn(\"dropout option adds dropout after all but last \"\n"
          ]
        },
        {
          "metadata": {
            "tags": null
          },
          "name": "stdout",
          "output_type": "stream",
          "text": [
            "Using cuda\n"
          ]
        },
        {
          "metadata": {
            "tags": null
          },
          "name": "stderr",
          "output_type": "stream",
          "text": [
            "\u001b[32m[I 2023-01-18 03:17:13,762]\u001b[0m Trial 14 finished with value: 0.8777340054512024 and parameters: {'learning_rate': 0.0007140129804061089, 'cell_type': 'LSTM', 'hidden_size': 50, 'num_layers': 1, 'dropout': 0.02567585814313459, 'skip_connections': False}. Best is trial 5 with value: 0.883770227432251.\u001b[0m\n",
            "/usr/local/lib/python3.8/dist-packages/torch/nn/modules/rnn.py:67: UserWarning: dropout option adds dropout after all but last recurrent layer, so non-zero dropout expects num_layers greater than 1, but got dropout=0.010945482666570522 and num_layers=1\n",
            "  warnings.warn(\"dropout option adds dropout after all but last \"\n"
          ]
        },
        {
          "metadata": {
            "tags": null
          },
          "name": "stdout",
          "output_type": "stream",
          "text": [
            "Using cuda\n"
          ]
        },
        {
          "metadata": {
            "tags": null
          },
          "name": "stderr",
          "output_type": "stream",
          "text": [
            "\u001b[32m[I 2023-01-18 03:24:35,260]\u001b[0m Trial 15 finished with value: 0.8442820310592651 and parameters: {'learning_rate': 0.0014554878702349948, 'cell_type': 'LSTM', 'hidden_size': 30, 'num_layers': 8, 'dropout': 0.010945482666570522, 'skip_connections': False}. Best is trial 5 with value: 0.883770227432251.\u001b[0m\n",
            "/usr/local/lib/python3.8/dist-packages/torch/nn/modules/rnn.py:67: UserWarning: dropout option adds dropout after all but last recurrent layer, so non-zero dropout expects num_layers greater than 1, but got dropout=0.04258844475493185 and num_layers=1\n",
            "  warnings.warn(\"dropout option adds dropout after all but last \"\n"
          ]
        },
        {
          "metadata": {
            "tags": null
          },
          "name": "stdout",
          "output_type": "stream",
          "text": [
            "Using cuda\n"
          ]
        },
        {
          "metadata": {
            "tags": null
          },
          "name": "stderr",
          "output_type": "stream",
          "text": [
            "\u001b[32m[I 2023-01-18 03:33:15,559]\u001b[0m Trial 16 finished with value: 0.8802893757820129 and parameters: {'learning_rate': 0.0004974382935869302, 'cell_type': 'LSTM', 'hidden_size': 41, 'num_layers': 7, 'dropout': 0.04258844475493185, 'skip_connections': False}. Best is trial 5 with value: 0.883770227432251.\u001b[0m\n",
            "/usr/local/lib/python3.8/dist-packages/torch/nn/modules/rnn.py:67: UserWarning: dropout option adds dropout after all but last recurrent layer, so non-zero dropout expects num_layers greater than 1, but got dropout=0.07951934997591376 and num_layers=1\n",
            "  warnings.warn(\"dropout option adds dropout after all but last \"\n"
          ]
        },
        {
          "metadata": {
            "tags": null
          },
          "name": "stdout",
          "output_type": "stream",
          "text": [
            "Using cuda\n"
          ]
        },
        {
          "metadata": {
            "tags": null
          },
          "name": "stderr",
          "output_type": "stream",
          "text": [
            "\u001b[32m[I 2023-01-18 03:38:45,419]\u001b[0m Trial 17 finished with value: 0.8790938854217529 and parameters: {'learning_rate': 0.004192516187421289, 'cell_type': 'LSTM', 'hidden_size': 16, 'num_layers': 4, 'dropout': 0.07951934997591376, 'skip_connections': False}. Best is trial 5 with value: 0.883770227432251.\u001b[0m\n",
            "/usr/local/lib/python3.8/dist-packages/torch/nn/modules/rnn.py:67: UserWarning: dropout option adds dropout after all but last recurrent layer, so non-zero dropout expects num_layers greater than 1, but got dropout=0.019323399993300412 and num_layers=1\n",
            "  warnings.warn(\"dropout option adds dropout after all but last \"\n"
          ]
        },
        {
          "metadata": {
            "tags": null
          },
          "name": "stdout",
          "output_type": "stream",
          "text": [
            "Using cuda\n"
          ]
        },
        {
          "metadata": {
            "tags": null
          },
          "name": "stderr",
          "output_type": "stream",
          "text": [
            "\u001b[32m[I 2023-01-18 03:46:45,471]\u001b[0m Trial 18 finished with value: 0.8784822225570679 and parameters: {'learning_rate': 0.0016774670262399035, 'cell_type': 'LSTM', 'hidden_size': 55, 'num_layers': 2, 'dropout': 0.019323399993300412, 'skip_connections': True}. Best is trial 5 with value: 0.883770227432251.\u001b[0m\n",
            "/usr/local/lib/python3.8/dist-packages/torch/nn/modules/rnn.py:67: UserWarning: dropout option adds dropout after all but last recurrent layer, so non-zero dropout expects num_layers greater than 1, but got dropout=0.030727955683446887 and num_layers=1\n",
            "  warnings.warn(\"dropout option adds dropout after all but last \"\n"
          ]
        },
        {
          "metadata": {
            "tags": null
          },
          "name": "stdout",
          "output_type": "stream",
          "text": [
            "Using cuda\n"
          ]
        },
        {
          "metadata": {
            "tags": null
          },
          "name": "stderr",
          "output_type": "stream",
          "text": [
            "\u001b[32m[I 2023-01-18 03:52:24,850]\u001b[0m Trial 19 finished with value: 0.8772459626197815 and parameters: {'learning_rate': 0.004790658618331864, 'cell_type': 'LSTM', 'hidden_size': 26, 'num_layers': 4, 'dropout': 0.030727955683446887, 'skip_connections': False}. Best is trial 5 with value: 0.883770227432251.\u001b[0m\n",
            "/usr/local/lib/python3.8/dist-packages/torch/nn/modules/rnn.py:67: UserWarning: dropout option adds dropout after all but last recurrent layer, so non-zero dropout expects num_layers greater than 1, but got dropout=0.015917286781724414 and num_layers=1\n",
            "  warnings.warn(\"dropout option adds dropout after all but last \"\n"
          ]
        },
        {
          "metadata": {
            "tags": null
          },
          "name": "stdout",
          "output_type": "stream",
          "text": [
            "Using cuda\n"
          ]
        },
        {
          "metadata": {
            "tags": null
          },
          "name": "stderr",
          "output_type": "stream",
          "text": [
            "\u001b[32m[I 2023-01-18 03:58:13,590]\u001b[0m Trial 20 finished with value: 0.8784576058387756 and parameters: {'learning_rate': 0.0006119296801409996, 'cell_type': 'LSTM', 'hidden_size': 34, 'num_layers': 2, 'dropout': 0.015917286781724414, 'skip_connections': False}. Best is trial 5 with value: 0.883770227432251.\u001b[0m\n",
            "/usr/local/lib/python3.8/dist-packages/torch/nn/modules/rnn.py:67: UserWarning: dropout option adds dropout after all but last recurrent layer, so non-zero dropout expects num_layers greater than 1, but got dropout=0.013508326235396093 and num_layers=1\n",
            "  warnings.warn(\"dropout option adds dropout after all but last \"\n"
          ]
        },
        {
          "metadata": {
            "tags": null
          },
          "name": "stdout",
          "output_type": "stream",
          "text": [
            "Using cuda\n"
          ]
        },
        {
          "metadata": {
            "tags": null
          },
          "name": "stderr",
          "output_type": "stream",
          "text": [
            "\u001b[32m[I 2023-01-18 04:07:27,153]\u001b[0m Trial 21 finished with value: 0.8777919411659241 and parameters: {'learning_rate': 0.0003282911422038549, 'cell_type': 'GRU', 'hidden_size': 64, 'num_layers': 3, 'dropout': 0.013508326235396093, 'skip_connections': False}. Best is trial 5 with value: 0.883770227432251.\u001b[0m\n",
            "/usr/local/lib/python3.8/dist-packages/torch/nn/modules/rnn.py:67: UserWarning: dropout option adds dropout after all but last recurrent layer, so non-zero dropout expects num_layers greater than 1, but got dropout=0.017375580878447747 and num_layers=1\n",
            "  warnings.warn(\"dropout option adds dropout after all but last \"\n"
          ]
        },
        {
          "metadata": {
            "tags": null
          },
          "name": "stdout",
          "output_type": "stream",
          "text": [
            "Using cuda\n"
          ]
        },
        {
          "metadata": {
            "tags": null
          },
          "name": "stderr",
          "output_type": "stream",
          "text": [
            "\u001b[32m[I 2023-01-18 04:16:10,627]\u001b[0m Trial 22 finished with value: 0.8794453144073486 and parameters: {'learning_rate': 0.00023519081559688406, 'cell_type': 'GRU', 'hidden_size': 57, 'num_layers': 3, 'dropout': 0.017375580878447747, 'skip_connections': False}. Best is trial 5 with value: 0.883770227432251.\u001b[0m\n",
            "/usr/local/lib/python3.8/dist-packages/torch/nn/modules/rnn.py:67: UserWarning: dropout option adds dropout after all but last recurrent layer, so non-zero dropout expects num_layers greater than 1, but got dropout=0.023463623716800875 and num_layers=1\n",
            "  warnings.warn(\"dropout option adds dropout after all but last \"\n"
          ]
        },
        {
          "metadata": {
            "tags": null
          },
          "name": "stdout",
          "output_type": "stream",
          "text": [
            "Using cuda\n"
          ]
        },
        {
          "metadata": {
            "tags": null
          },
          "name": "stderr",
          "output_type": "stream",
          "text": [
            "\u001b[32m[I 2023-01-18 04:24:37,759]\u001b[0m Trial 23 finished with value: 0.8819076418876648 and parameters: {'learning_rate': 0.00042690801734938423, 'cell_type': 'GRU', 'hidden_size': 50, 'num_layers': 4, 'dropout': 0.023463623716800875, 'skip_connections': False}. Best is trial 5 with value: 0.883770227432251.\u001b[0m\n",
            "/usr/local/lib/python3.8/dist-packages/torch/nn/modules/rnn.py:67: UserWarning: dropout option adds dropout after all but last recurrent layer, so non-zero dropout expects num_layers greater than 1, but got dropout=0.013224866448368448 and num_layers=1\n",
            "  warnings.warn(\"dropout option adds dropout after all but last \"\n"
          ]
        },
        {
          "metadata": {
            "tags": null
          },
          "name": "stdout",
          "output_type": "stream",
          "text": [
            "Using cuda\n"
          ]
        },
        {
          "metadata": {
            "tags": null
          },
          "name": "stderr",
          "output_type": "stream",
          "text": [
            "\u001b[32m[I 2023-01-18 04:32:45,820]\u001b[0m Trial 24 finished with value: 0.8770669102668762 and parameters: {'learning_rate': 0.0010189187844629143, 'cell_type': 'LSTM', 'hidden_size': 60, 'num_layers': 1, 'dropout': 0.013224866448368448, 'skip_connections': False}. Best is trial 5 with value: 0.883770227432251.\u001b[0m\n",
            "/usr/local/lib/python3.8/dist-packages/torch/nn/modules/rnn.py:67: UserWarning: dropout option adds dropout after all but last recurrent layer, so non-zero dropout expects num_layers greater than 1, but got dropout=0.022224927257124345 and num_layers=1\n",
            "  warnings.warn(\"dropout option adds dropout after all but last \"\n"
          ]
        },
        {
          "metadata": {
            "tags": null
          },
          "name": "stdout",
          "output_type": "stream",
          "text": [
            "Using cuda\n"
          ]
        },
        {
          "output_type": "stream",
          "name": "stderr",
          "text": [
            "\u001b[32m[I 2023-01-18 04:40:33,665]\u001b[0m Trial 25 finished with value: 0.8772203922271729 and parameters: {'learning_rate': 0.0001966766332064184, 'cell_type': 'LSTM', 'hidden_size': 52, 'num_layers': 2, 'dropout': 0.022224927257124345, 'skip_connections': False}. Best is trial 5 with value: 0.883770227432251.\u001b[0m\n",
            "/usr/local/lib/python3.8/dist-packages/torch/nn/modules/rnn.py:67: UserWarning: dropout option adds dropout after all but last recurrent layer, so non-zero dropout expects num_layers greater than 1, but got dropout=0.0176815891277386 and num_layers=1\n",
            "  warnings.warn(\"dropout option adds dropout after all but last \"\n"
          ]
        },
        {
          "output_type": "stream",
          "name": "stdout",
          "text": [
            "Using cuda\n"
          ]
        },
        {
          "output_type": "stream",
          "name": "stderr",
          "text": [
            "\u001b[32m[I 2023-01-18 04:48:43,364]\u001b[0m Trial 26 finished with value: 0.880402684211731 and parameters: {'learning_rate': 0.0021983255376302486, 'cell_type': 'GRU', 'hidden_size': 43, 'num_layers': 5, 'dropout': 0.0176815891277386, 'skip_connections': True}. Best is trial 5 with value: 0.883770227432251.\u001b[0m\n",
            "/usr/local/lib/python3.8/dist-packages/torch/nn/modules/rnn.py:67: UserWarning: dropout option adds dropout after all but last recurrent layer, so non-zero dropout expects num_layers greater than 1, but got dropout=0.010254590934035286 and num_layers=1\n",
            "  warnings.warn(\"dropout option adds dropout after all but last \"\n"
          ]
        },
        {
          "output_type": "stream",
          "name": "stdout",
          "text": [
            "Using cuda\n"
          ]
        }
      ]
    },
    {
      "cell_type": "markdown",
      "source": [
        "After running optuna for 27 trials, the model which produced the highest f1 score on the test set was the following:\n",
        "\n",
        "```\n",
        "parameters = {\n",
        "    'learning_rate': 0.0008597490589482921,\n",
        "    'cell_type': 'LSTM',\n",
        "    'input_size': 300,\n",
        "    'hidden_size': 57,\n",
        "    'num_layers': 3,\n",
        "    'dropout': 0.02051594089032721,\n",
        "    'skip_connections' : False\n",
        "}\n",
        "\n",
        "```\n",
        "\n",
        "\n"
      ],
      "metadata": {
        "id": "4dh3_51MObqQ"
      }
    },
    {
      "cell_type": "markdown",
      "source": [
        "####Plotting Learning Curve & ROC Curve for the produced model"
      ],
      "metadata": {
        "id": "hqKEItXlMdYs"
      }
    },
    {
      "cell_type": "code",
      "execution_count": null,
      "metadata": {
        "colab": {
          "base_uri": "https://localhost:8080/"
        },
        "outputId": "3db73111-013e-476e-e9f7-434f4493e87a",
        "id": "Ms0hbnZbNXFl"
      },
      "outputs": [
        {
          "output_type": "stream",
          "name": "stdout",
          "text": [
            "RNN(\n",
            "  (embedding): Embedding(400000, 300)\n",
            "  (rnn_layers): ModuleList(\n",
            "    (0): LSTM(300, 57, batch_first=True, dropout=0.02051594089032721, bidirectional=True)\n",
            "    (1): LSTM(114, 57, batch_first=True, dropout=0.02051594089032721, bidirectional=True)\n",
            "    (2): LSTM(114, 57, batch_first=True, dropout=0.02051594089032721, bidirectional=True)\n",
            "  )\n",
            "  (out): Linear(in_features=228, out_features=1, bias=True)\n",
            "  (sigmoid): Sigmoid()\n",
            ")\n",
            "Using cuda\n"
          ]
        },
        {
          "output_type": "stream",
          "name": "stderr",
          "text": [
            "<ipython-input-9-5f83bf2eb6bd>:69: UserWarning: Implicit dimension choice for softmax has been deprecated. Change the call to include dim=X as an argument.\n",
            "  weight_vector = softmax(torch.matmul(out[i,0:-2,:],out[i,-1,:]))        #Compute weight vector\n"
          ]
        }
      ],
      "source": [
        "parameters = {\n",
        "    'lr': 0.0008597490589482921,\n",
        "    'cell_type': 'LSTM',\n",
        "    'input_size': 300,\n",
        "    'hidden_size': 57,\n",
        "    'num_layers': 3,\n",
        "    'dropout': 0.02051594089032721,\n",
        "    'skip_connections' : False,\n",
        "    'attention' : True\n",
        "}\n",
        "\n",
        "#{'learning_rate': 0.0008597490589482921, 'cell_type': 'LSTM', 'hidden_size': 57, 'num_layers': 3, 'dropout': 0.02051594089032721, 'skip_connections': False}\n",
        "\n",
        "net = RNN(parameters,vec)\n",
        "print(net)\n",
        "\n",
        "EPOCH = 7\n",
        "trained_model, avg_losses, epoch_sizes, val_scores, train_scores = Train_Network(train_dataloader,validation_dataloader,EPOCH, parameters['lr'], net,info = True)"
      ]
    },
    {
      "cell_type": "code",
      "execution_count": null,
      "metadata": {
        "colab": {
          "base_uri": "https://localhost:8080/"
        },
        "outputId": "b5ae48af-9590-48d3-9646-382fa2263e00",
        "id": "aZnm4X2pM5cR"
      },
      "outputs": [
        {
          "output_type": "stream",
          "name": "stderr",
          "text": [
            "<ipython-input-9-5f83bf2eb6bd>:69: UserWarning: Implicit dimension choice for softmax has been deprecated. Change the call to include dim=X as an argument.\n",
            "  weight_vector = softmax(torch.matmul(out[i,0:-2,:],out[i,-1,:]))        #Compute weight vector\n"
          ]
        },
        {
          "output_type": "stream",
          "name": "stdout",
          "text": [
            "Precision:  0.8311057686805725\n",
            "Recall:  0.9242501258850098\n",
            "f1 measure:  0.8737862706184387\n"
          ]
        }
      ],
      "source": [
        "precision, recall, f1 = Test_Network(test_dataloader,trained_model)\n",
        "print(\"Precision: \",precision.item())\n",
        "print(\"Recall: \",recall.item())\n",
        "print(\"f1 measure: \",f1.item())\n",
        "\n",
        "y_predicted = make_prediction(test_dataloader,trained_model)\n",
        "y_actual = np.asarray(test_dataset.getLabels())"
      ]
    },
    {
      "cell_type": "code",
      "execution_count": null,
      "metadata": {
        "colab": {
          "base_uri": "https://localhost:8080/",
          "height": 638
        },
        "outputId": "ea946ab8-165d-4e57-d6f7-a880d6394253",
        "id": "xflWVUSsM-Tn"
      },
      "outputs": [
        {
          "output_type": "execute_result",
          "data": {
            "text/plain": [
              "<matplotlib.legend.Legend at 0x7f1ad1be2760>"
            ]
          },
          "metadata": {},
          "execution_count": 23
        },
        {
          "output_type": "display_data",
          "data": {
            "text/plain": [
              "<Figure size 1440x720 with 2 Axes>"
            ],
            "image/png": "[encoded data removed]"
          },
          "metadata": {
            "needs_background": "light"
          }
        }
      ],
      "source": [
        "import matplotlib.pyplot as plt\n",
        "from sklearn.metrics import roc_curve, auc\n",
        "\n",
        "\n",
        "fp,tp,_ = roc_curve(y_actual, y_predicted)\n",
        "roc_auc = auc(fp,tp)\n",
        "\n",
        "_, axes = plt.subplots(1,2,figsize=(20,10))\n",
        "axes[0].set_title(\"Learning Curve\")\n",
        "axes[0].set_xlabel(\"Epochs\")\n",
        "axes[0].set_ylabel(\"F1 Score\")\n",
        "axes[0].grid()\n",
        "\n",
        "axes[0].plot(epoch_sizes, train_scores, color=\"r\", label=\"Training Score\")\n",
        "axes[0].plot(epoch_sizes, val_scores, color=\"g\", label=\"Validation Score\")\n",
        "axes[0].legend(loc=\"best\")\n",
        "\n",
        "axes[1].set_title(\"ROC Curve\")\n",
        "axes[1].set_xlabel(\"False Positive Rate\")\n",
        "axes[1].set_ylabel(\"True Positive Rate\")\n",
        "axes[1].grid()\n",
        "axes[1].plot(fp, tp, label='ROC curve (area = %0.2f)' % roc_auc)\n",
        "axes[1].legend(loc = \"best\")\n"
      ]
    },
    {
      "cell_type": "markdown",
      "source": [
        "After running optuna for 27 trials, the model which produced the highest f1 score on the test set was the following:\n",
        "\n",
        "```\n",
        "parameters = {\n",
        "    'lr': 0.0005448990796029992,\n",
        "    'cell_type': 'GRU',\n",
        "    'input_size': 300,\n",
        "    'hidden_size': 35,\n",
        "    'num_layers': 7,\n",
        "    'dropout': 0.015853786329403766,\n",
        "    'skip_connections' : True\n",
        "}\n",
        "```"
      ],
      "metadata": {
        "id": "NHdvxlhyNG33"
      }
    }
  ],
  "metadata": {
    "accelerator": "GPU",
    "colab": {
      "provenance": []
    },
    "gpuClass": "standard",
    "kernelspec": {
      "display_name": "Python 3",
      "name": "python3"
    },
    "language_info": {
      "name": "python"
    }
  },
  "nbformat": 4,
  "nbformat_minor": 0
}